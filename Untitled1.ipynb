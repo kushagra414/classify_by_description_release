{
 "cells": [
  {
   "cell_type": "code",
   "execution_count": 13,
   "id": "4635e2b5",
   "metadata": {},
   "outputs": [],
   "source": [
    "import requests\n",
    "from bardapi.constants import SESSION_HEADERS\n",
    "from bardapi import Bard\n",
    "\n",
    "token = \"dwguDydGt66xWlr0pqP2D3O1Qqbv7-uExWkJG7TCGIlelw2cbfSoOojVhlew5I6c-6YkvA.\"\n",
    "\n",
    "session = requests.Session()\n",
    "session.headers = SESSION_HEADERS\n",
    "session.cookies.set(\"__Secure-1PSID\", token)\n",
    "session.cookies.set(\"__Secure-1PSIDTS\", \"sidts-CjEBPVxjStKhXBf4mWxGe_yEMBAxfTsaBDf6UDBurS_0luauXe3TdcKbvp3nBuYy2gPFEAA\")\n",
    "session.cookies.set(\"__Secure-1PSIDCC\", \"ACA-OxM8oGli4TSEx32dKuxGFxSDhUxgf3VWydbuZxDQxcf3fGow20elj21pLB2JgdQRGXZ0mRPe\")\n",
    "\n",
    "bard = Bard(token=token, session=session)"
   ]
  },
  {
   "cell_type": "code",
   "execution_count": 8,
   "id": "a125f539",
   "metadata": {},
   "outputs": [
    {
     "data": {
      "text/plain": [
       "\"Good morning!  It's actually Monday, December 11, 2023 at 12:47 PM JST. Is there anything specific you'd like to know or discuss today? ☀️\\n\""
      ]
     },
     "execution_count": 8,
     "metadata": {},
     "output_type": "execute_result"
    }
   ],
   "source": [
    "bard.get_answer(\"Good Morning\")['content']"
   ]
  },
  {
   "cell_type": "code",
   "execution_count": 21,
   "id": "3ef38142",
   "metadata": {},
   "outputs": [],
   "source": [
    "setting_context = \"\"\"\n",
    "Use this as an example to generate you answers for user's query, you must answer exactly in the same way as given in the example.\n",
    "Do not generate anything extra than given in the example, simply answer in the exactly same way:\n",
    "\n",
    "```Q: What are useful visual features for distinguishing a tiger from a lion in a photo?\n",
    "A: There are several useful visual features to tell the difference between a tiger and a lion in a photo, answering in a simpler format:-\n",
    "\n",
    "Tigers have the following features that a lion lacks:\n",
    "- Tigers have orange coats with vertical black stripes\n",
    "- Tigers are generally larger and robust\n",
    "- Tigers often have a more rounded face with prominent cheekbones\n",
    "- Tiger ears are usually smaller and rounded\n",
    "- Tiger tails are long and have a characteristic white spot at the tip.\n",
    "- Tigers are found in a variety of habitats, including dense forests and grasslands\n",
    "\n",
    "Lions have the following features that a tiger lacks\n",
    "- Lions typically have a tawny or beige coat, and their fur is often smoother and they have a mane\n",
    "- Lions have a more compact and muscular build\n",
    "- The lions may have a more squared-off face\n",
    "- Lion ears are large and often have a more pointed shape.\n",
    "- Lion tails are shorter, ending in a tuft of hair.\n",
    "- Lions' habitats are savannas and open woodlands.\n",
    "```\n",
    "Remember not to use the first class name in the response of second class and vice-a-versa. For example here, in the answer for tiger do not use lion and in answer for lion do not use the word tiger\n",
    "\"\"\""
   ]
  },
  {
   "cell_type": "code",
   "execution_count": 22,
   "id": "4412aa77",
   "metadata": {},
   "outputs": [
    {
     "data": {
      "text/plain": [
       "\"## Useful visual features for distinguishing a tiger from a lion in a photo:\\n\\n**Tigers:**\\n\\n* **Striped coat:** Tigers have orange coats with vertical black stripes, while lions have a tawny or beige coat without stripes.\\n[Image of Tiger with stripes]\\n* **Larger and robust:** Tigers are generally larger and more robust than lions, reaching up to 650 pounds and 12.5 feet in length, while lions weigh between 330 and 550 pounds and measure between 6.5 and 11 feet.\\n* **Rounded face:** Tigers often have a more rounded face with prominent cheekbones, while lions have a more squared-off face.\\n* **Smaller, rounded ears:** Tiger ears are typically smaller and rounded, while lion ears are large and often have a more pointed shape.\\n* **Long tail with white tip:** Tiger tails are long and have a characteristic white spot at the tip, while lion tails are shorter and end in a tuft of hair.\\n* **Habitat:** Tigers are found in a variety of habitats, including dense forests and grasslands, while lions prefer savannas and open woodlands.\\n\\n**Lions:**\\n\\n* **Tawny or beige coat:** Lions typically have a tawny or beige coat, and their fur is often smoother than a tiger's. Additionally, male lions have a mane of hair around their neck and head, which is absent in females.\\n[Image of Lion with its mane]\\n* **Compact and muscular:** Lions have a more compact and muscular build than tigers.\\n* **Squared-off face:** As mentioned earlier, lions have a more squared-off face compared to the rounded face of a tiger.\\n* **Large, pointed ears:** Lion ears are large and often have a more pointed shape, unlike the smaller and rounded ears of tigers.\\n* **Shorter tail:** Lion tails are shorter than tiger tails and end in a tuft of hair, lacking the white tip characteristic of tigers.\\n* **Habitat:** Lions are typically found in savannas and open woodlands, while tigers prefer a wider range of habitats.\\n\\nBy paying attention to these visual features, you should be able to distinguish between a tiger and a lion in a photo with relative ease.\\n\""
      ]
     },
     "execution_count": 22,
     "metadata": {},
     "output_type": "execute_result"
    }
   ],
   "source": [
    "bard.get_answer(setting_context)['content']"
   ]
  },
  {
   "cell_type": "code",
   "execution_count": 23,
   "id": "fa68ec83",
   "metadata": {},
   "outputs": [],
   "source": [
    "prompt = \"\"\"Q: What are useful features for distinguishing a {Black-footed Albatross} from {Sooty Albatrossin} in a photo?\n",
    "A: There are several useful visual features to tell the difference between a {Black-footed Albatross} and a {Sooty Albatrossin} in a photo, answering in a simpler format:-\n",
    "\"\"\""
   ]
  },
  {
   "cell_type": "code",
   "execution_count": 24,
   "id": "0e389b26",
   "metadata": {},
   "outputs": [
    {
     "name": "stdout",
     "output_type": "stream",
     "text": [
      "## Distinguishing Black-footed Albatross from Sooty Albatross in Photos:\n",
      "\n",
      "**Black-footed Albatross:**\n",
      "\n",
      "* **Mostly dark:** Uniformly dark brown plumage overall.\n",
      "* **Bill:**\n",
      "    * Large and hooked.\n",
      "    * **Pale base:** A pale yellowish-pink to creamy-white area at the base of the upper mandible.\n",
      "    * Varies in extent: The amount of white can vary from a small patch to a broader band, extending around the face.\n",
      "* **Head:**\n",
      "    * Heavy and thick-necked.\n",
      "    * Rounded face shape.\n",
      "* **Wingspan:** 6.5-7.5 feet.\n",
      "\n",
      "**Sooty Albatross:**\n",
      "\n",
      "* **Lighter brown overall:** Slightly lighter overall plumage compared to Black-footed Albatross.\n",
      "* **Bill:**\n",
      "    * Smaller and more slender than Black-footed Albatross.\n",
      "    * **Darker base:** Darker base to the upper mandible, lacking the pale patch of the Black-footed Albatross.\n",
      "    * May have a pale tip: Some individuals may have a small pale tip to the bill.\n",
      "* **Head:**\n",
      "    * More slender and streamlined than Black-footed Albatross.\n",
      "    * Flatter face shape.\n",
      "* **Wingspan:** 7-8 feet.\n",
      "\n",
      "**Additional Features:**\n",
      "\n",
      "* **Underparts:** Black-footed Albatross often appears darker on the underparts, while Sooty Albatross can show a browner tone.\n",
      "* **Flight pattern:** Black-footed Albatross tends to have a more direct and powerful flight, while Sooty Albatross may exhibit a more gliding flight style.\n",
      "\n",
      "**Remember:** These are general guidelines, and variations can occur within each species. Observing multiple features and comparing them to reference photos is crucial for accurate identification.\n",
      "\n"
     ]
    }
   ],
   "source": [
    "print(bard.get_answer(prompt)['content'])"
   ]
  },
  {
   "cell_type": "code",
   "execution_count": null,
   "id": "5e0e021a",
   "metadata": {},
   "outputs": [],
   "source": []
  }
 ],
 "metadata": {
  "kernelspec": {
   "display_name": "Python 3 (ipykernel)",
   "language": "python",
   "name": "python3"
  },
  "language_info": {
   "codemirror_mode": {
    "name": "ipython",
    "version": 3
   },
   "file_extension": ".py",
   "mimetype": "text/x-python",
   "name": "python",
   "nbconvert_exporter": "python",
   "pygments_lexer": "ipython3",
   "version": "3.7.12"
  }
 },
 "nbformat": 4,
 "nbformat_minor": 5
}
