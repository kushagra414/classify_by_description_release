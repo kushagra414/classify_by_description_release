{
 "cells": [
  {
   "cell_type": "markdown",
   "id": "84dabd5e",
   "metadata": {},
   "source": [
    "# Import libs"
   ]
  },
  {
   "cell_type": "code",
   "execution_count": 1,
   "id": "54c82867",
   "metadata": {},
   "outputs": [],
   "source": [
    "import os\n",
    "from dotenv import load_dotenv, find_dotenv\n",
    "_ = load_dotenv(find_dotenv()) # read local .env file\n",
    "import openai\n",
    "import torch\n",
    "from torchvision import datasets\n",
    "from torchvision.transforms import ToTensor\n",
    "from torchvision.datasets import OxfordIIITPet\n",
    "from PIL import Image\n",
    "import matplotlib.pyplot as plt\n",
    "import torchvision.transforms as transforms\n",
    "import torchmetrics\n",
    "from torch.utils.data import DataLoader, Subset\n",
    "from torch.nn import functional as F\n",
    "import logging\n",
    "import clip\n",
    "import json\n",
    "openai.api_key  = os.getenv('OPENAI_API_KEY')\n",
    "from collections import OrderedDict\n",
    "import numpy as np\n",
    "from tqdm import tqdm"
   ]
  },
  {
   "cell_type": "markdown",
   "id": "71fd49aa",
   "metadata": {},
   "source": [
    "# Load Dataset using the Mean and std dev of training dataset"
   ]
  },
  {
   "cell_type": "code",
   "execution_count": 2,
   "id": "ed383f00",
   "metadata": {},
   "outputs": [
    {
     "name": "stderr",
     "output_type": "stream",
     "text": [
      "/home/kush/anaconda3/envs/kush/lib/python3.7/site-packages/torchvision/transforms/transforms.py:330: UserWarning: Argument 'interpolation' of type int is deprecated since 0.13 and will be removed in 0.15. Please use InterpolationMode enum.\n",
      "  \"Argument 'interpolation' of type int is deprecated since 0.13 and will be removed in 0.15. \"\n"
     ]
    }
   ],
   "source": [
    "oxfordpet_path = '/home/kush/Desktop/CLIP/'\n",
    "transform = transforms.Compose([\n",
    "    transforms.Resize(224, interpolation=Image.BICUBIC),\n",
    "    transforms.CenterCrop(224),\n",
    "    lambda image: image.convert(\"RGB\"),\n",
    "    transforms.ToTensor(),\n",
    "    transforms.Normalize((0.48145466, 0.4578275, 0.40821073), (0.26862954, 0.26130258, 0.27577711)),\n",
    "])\n",
    "oxfordpet_dataset_train = OxfordIIITPet(oxfordpet_path, split=\"trainval\", transform = transform)\n",
    "oxfordpet_dataset_test = OxfordIIITPet(oxfordpet_path, split=\"test\", transform = transform)"
   ]
  },
  {
   "cell_type": "code",
   "execution_count": 3,
   "id": "874b7df8",
   "metadata": {
    "scrolled": true
   },
   "outputs": [
    {
     "data": {
      "text/plain": [
       "['Abyssinian',\n",
       " 'American Bulldog',\n",
       " 'American Pit Bull Terrier',\n",
       " 'Basset Hound',\n",
       " 'Beagle',\n",
       " 'Bengal',\n",
       " 'Birman',\n",
       " 'Bombay',\n",
       " 'Boxer',\n",
       " 'British Shorthair',\n",
       " 'Chihuahua',\n",
       " 'Egyptian Mau',\n",
       " 'English Cocker Spaniel',\n",
       " 'English Setter',\n",
       " 'German Shorthaired',\n",
       " 'Great Pyrenees',\n",
       " 'Havanese',\n",
       " 'Japanese Chin',\n",
       " 'Keeshond',\n",
       " 'Leonberger',\n",
       " 'Maine Coon',\n",
       " 'Miniature Pinscher',\n",
       " 'Newfoundland',\n",
       " 'Persian',\n",
       " 'Pomeranian',\n",
       " 'Pug',\n",
       " 'Ragdoll',\n",
       " 'Russian Blue',\n",
       " 'Saint Bernard',\n",
       " 'Samoyed',\n",
       " 'Scottish Terrier',\n",
       " 'Shiba Inu',\n",
       " 'Siamese',\n",
       " 'Sphynx',\n",
       " 'Staffordshire Bull Terrier',\n",
       " 'Wheaten Terrier',\n",
       " 'Yorkshire Terrier']"
      ]
     },
     "execution_count": 3,
     "metadata": {},
     "output_type": "execute_result"
    }
   ],
   "source": [
    "oxfordpet_dataset_train.classes"
   ]
  },
  {
   "cell_type": "markdown",
   "id": "389c546f",
   "metadata": {},
   "source": [
    "# Change Class names -> They are not proper"
   ]
  },
  {
   "cell_type": "code",
   "execution_count": 4,
   "id": "e1a72a48",
   "metadata": {},
   "outputs": [],
   "source": [
    "def get_full_class_labels(file_path):\n",
    "    classes_full_names = set()\n",
    "    with open(file_path, 'r') as file:\n",
    "        for line in file:\n",
    "            if line.startswith('#'):\n",
    "                continue\n",
    "            class_id, _, species, _ = line.strip('\\n').split(' ', 3)\n",
    "            class_id = ' '.join(class_id.split('_')[0: -1]).title()\n",
    "            if int(species) == 1:\n",
    "                class_id += ' Cat'\n",
    "            else:\n",
    "                class_id += ' Dog'\n",
    "            classes_full_names.add(class_id)\n",
    "    return classes_full_names"
   ]
  },
  {
   "cell_type": "code",
   "execution_count": 5,
   "id": "3378aa2c",
   "metadata": {},
   "outputs": [],
   "source": [
    "def fix_class_names(dataset, complete_class_names):\n",
    "    for class_name in complete_class_names:\n",
    "        incomplete_class_name = ' '.join(class_name.split(' ')[0: -1]).strip()\n",
    "        find_index = lambda l, x: l.index(x) if x in l else -1\n",
    "        index_of_incorrect_class = find_index(dataset.classes, incomplete_class_name)\n",
    "        if index_of_incorrect_class != -1:\n",
    "            dataset.classes[index_of_incorrect_class] = class_name\n",
    "        idx = dataset.class_to_idx.pop(incomplete_class_name, -1)\n",
    "        if idx != -1:\n",
    "            dataset.class_to_idx[class_name] = idx"
   ]
  },
  {
   "cell_type": "code",
   "execution_count": 6,
   "id": "99002217",
   "metadata": {},
   "outputs": [],
   "source": [
    "# list_txt_path = 'oxford-iiit-pet/annotations/list.txt'\n",
    "# full_class_labels = get_full_class_labels(os.path.join(oxfordpet_path,list_txt_path))\n",
    "# fix_class_names(oxfordpet_dataset_train, full_class_labels)\n",
    "# fix_class_names(oxfordpet_dataset_test, full_class_labels)\n",
    "# print(oxfordpet_dataset_train.classes)\n",
    "# print(oxfordpet_dataset_train.class_to_idx)"
   ]
  },
  {
   "cell_type": "markdown",
   "id": "dfe2baea",
   "metadata": {},
   "source": [
    "# Calc mean and std dev from training DS"
   ]
  },
  {
   "cell_type": "code",
   "execution_count": 7,
   "id": "c313b429",
   "metadata": {},
   "outputs": [],
   "source": [
    "# mean = torch.zeros(3)\n",
    "# std_dev = torch.zeros(3)\n",
    "\n",
    "# for img, _ in oxfordpet_dataset:\n",
    "#     mean += img.mean(dim=(1, 2))\n",
    "#     std_dev += img.std(dim=(1, 2))\n",
    "# mean /= len(oxfordpet_dataset)\n",
    "# std_dev /= len(oxfordpet_dataset)\n",
    "# print(\"Mean values:\", mean)\n",
    "# print(\"Std Dev values:\", std_dev)"
   ]
  },
  {
   "cell_type": "markdown",
   "id": "6fc51ef5",
   "metadata": {},
   "source": [
    "# Load model"
   ]
  },
  {
   "cell_type": "code",
   "execution_count": 8,
   "id": "5a7539ab",
   "metadata": {},
   "outputs": [
    {
     "data": {
      "text/plain": [
       "['Abyssinian',\n",
       " 'American Bulldog',\n",
       " 'American Pit Bull Terrier',\n",
       " 'Basset Hound',\n",
       " 'Beagle',\n",
       " 'Bengal',\n",
       " 'Birman',\n",
       " 'Bombay',\n",
       " 'Boxer',\n",
       " 'British Shorthair',\n",
       " 'Chihuahua',\n",
       " 'Egyptian Mau',\n",
       " 'English Cocker Spaniel',\n",
       " 'English Setter',\n",
       " 'German Shorthaired',\n",
       " 'Great Pyrenees',\n",
       " 'Havanese',\n",
       " 'Japanese Chin',\n",
       " 'Keeshond',\n",
       " 'Leonberger',\n",
       " 'Maine Coon',\n",
       " 'Miniature Pinscher',\n",
       " 'Newfoundland',\n",
       " 'Persian',\n",
       " 'Pomeranian',\n",
       " 'Pug',\n",
       " 'Ragdoll',\n",
       " 'Russian Blue',\n",
       " 'Saint Bernard',\n",
       " 'Samoyed',\n",
       " 'Scottish Terrier',\n",
       " 'Shiba Inu',\n",
       " 'Siamese',\n",
       " 'Sphynx',\n",
       " 'Staffordshire Bull Terrier',\n",
       " 'Wheaten Terrier',\n",
       " 'Yorkshire Terrier']"
      ]
     },
     "execution_count": 8,
     "metadata": {},
     "output_type": "execute_result"
    }
   ],
   "source": [
    "oxfordpet_dataset_train.classes"
   ]
  },
  {
   "cell_type": "code",
   "execution_count": 9,
   "id": "21cf50de",
   "metadata": {},
   "outputs": [],
   "source": [
    "device = \"cuda\" if torch.cuda.is_available() else \"cpu\"\n",
    "model, preprocess = clip.load('ViT-B/32', device=device, jit=False)\n",
    "model = model.eval()\n",
    "model = model.requires_grad_(False)"
   ]
  },
  {
   "cell_type": "markdown",
   "id": "e1ffa8af",
   "metadata": {},
   "source": [
    "# Function for computing Label text emebddings"
   ]
  },
  {
   "cell_type": "code",
   "execution_count": 10,
   "id": "9fec9c1f",
   "metadata": {},
   "outputs": [],
   "source": [
    "def compute_encodings(model, labels):\n",
    "    with torch.no_grad():\n",
    "        label_encodings = F.normalize(model.encode_text(clip.tokenize(labels, truncate=True).to(device)))\n",
    "    return label_encodings"
   ]
  },
  {
   "cell_type": "markdown",
   "id": "f7044c28",
   "metadata": {},
   "source": [
    "# Function for index to label"
   ]
  },
  {
   "cell_type": "code",
   "execution_count": 11,
   "id": "0891378e",
   "metadata": {},
   "outputs": [],
   "source": [
    "def idx_to_label(label_to_idx):\n",
    "    dataset_items = list(label_to_idx.items())\n",
    "    return dict(map(lambda x: x[::-1], dataset_items))"
   ]
  },
  {
   "cell_type": "code",
   "execution_count": 12,
   "id": "ae51f2f3",
   "metadata": {},
   "outputs": [],
   "source": [
    "def initialize_counter_dict(labels):\n",
    "    dict_ = dict()\n",
    "    for label1 in labels:\n",
    "        dict_[label1] = dict()\n",
    "        for label2 in labels:\n",
    "            dict_[label1][label2] = 0\n",
    "    return dict_"
   ]
  },
  {
   "cell_type": "code",
   "execution_count": 13,
   "id": "090dd6d9",
   "metadata": {},
   "outputs": [],
   "source": [
    "def increase_count(counter_dict, actual_class, top_classes):\n",
    "    for class_ in top_classes:\n",
    "        counter_dict[actual_class][class_] += 1\n",
    "    return counter_dict"
   ]
  },
  {
   "cell_type": "code",
   "execution_count": 24,
   "id": "9729324b",
   "metadata": {},
   "outputs": [],
   "source": [
    "def add_to_counter_dict(counter_dict, index_to_class_dict, actual_index_list, \n",
    "                        pred_index_list, topK_is_one = False):\n",
    "    print(pred_index_list.size())\n",
    "    for idx, actual_class_index in enumerate(actual_index_list):\n",
    "        actual_class = index_to_class_dict[int(actual_class_index)]\n",
    "        if topK_is_one == True:\n",
    "            top_classes = list(map(lambda x: index_to_class_dict[int(x)], \n",
    "                               list(pred_index_list[idx][0: 1])))\n",
    "        else:\n",
    "            top_classes = list(map(lambda x: index_to_class_dict[int(x)], \n",
    "                               pred_index_list[idx].squeeze()))\n",
    "        counter_dict = increase_count(counter_dict, actual_class, top_classes)\n",
    "    return counter_dict"
   ]
  },
  {
   "cell_type": "code",
   "execution_count": 25,
   "id": "537737b0",
   "metadata": {},
   "outputs": [],
   "source": [
    "def calc_acc(model, dataset, descriptions, batch_size = 64*10, count_classes = False, \n",
    "             topK = 5):\n",
    "    topK_is_one = False\n",
    "    if topK == 1:\n",
    "        topK = 5\n",
    "        topK_is_one = True\n",
    "    elif topK < 1:\n",
    "        return \"Please use k >= 1!\"\n",
    "    \n",
    "    count_classes_dict = initialize_counter_dict(dataset.classes)\n",
    "    index_to_class_dict = idx_to_label(dataset.class_to_idx)\n",
    "    \n",
    "    \n",
    "    encodings = compute_encodings(model, dataset.classes)\n",
    "    clip_accuracy_metric = torchmetrics.Accuracy(task=\"multiclass\", num_classes=len(dataset.classes)).to(device)\n",
    "    clip_accuracy_metric_topk = torchmetrics.Accuracy(top_k=topK, task=\"multiclass\", num_classes=len(dataset.classes)).to(device)\n",
    "    dataloader = DataLoader(dataset, batch_size, shuffle=True, num_workers=16, pin_memory=True)\n",
    "    for batch_number, batch in enumerate(tqdm(dataloader)):\n",
    "        images, labels = batch\n",
    "\n",
    "        images = images.to(device)\n",
    "        labels = labels.to(device)\n",
    "\n",
    "        image_encodings = model.encode_image(images)\n",
    "        image_encodings = F.normalize(image_encodings)\n",
    "\n",
    "        image_labels_similarity = image_encodings @ encodings.T\n",
    "        topk_values, topk_indices = image_labels_similarity.topk(topK, dim=1)\n",
    "        clip_predictions = image_labels_similarity.argmax(dim=1)\n",
    "\n",
    "\n",
    "        clip_acc = clip_accuracy_metric(image_labels_similarity, labels)\n",
    "        clip_acc_topk = clip_accuracy_metric_topk(image_labels_similarity, labels)\n",
    "        \n",
    "        \n",
    "        if count_classes == True:\n",
    "            count_classes_dict = add_to_counter_dict(count_classes_dict, index_to_class_dict,\n",
    "                                                 labels, topk_indices, topK_is_one)\n",
    "\n",
    "    # Make Top k 1 again\n",
    "    \n",
    "    if topK_is_one == True:\n",
    "        topK = 1\n",
    "\n",
    "    accuracy_logs = {}\n",
    "    accuracy_logs[\"Total CLIP-Standard Top-1 Accuracy: \"] = 100*clip_accuracy_metric.compute().item()\n",
    "    if topK > 1:\n",
    "        accuracy_logs[f\"Total CLIP-Standard Top-{topK} Accuracy: \"] = 100*clip_accuracy_metric_topk.compute().item()\n",
    "    \n",
    "    if count_classes == True:\n",
    "        for actual_key in count_classes_dict.keys():\n",
    "            count_classes_dict[actual_key] = sorted(count_classes_dict[actual_key].items(),\n",
    "                                                key=lambda x: x[1], reverse=True)\n",
    "\n",
    "        json_string = json.dumps(count_classes_dict, indent=4)  # indent for pretty formatting\n",
    "\n",
    "        if topK_is_one == True:\n",
    "            topK = 1\n",
    "        # Write JSON string to a text file\n",
    "        with open(f'top{topK}.txt', 'w') as file:\n",
    "            file.write(json_string)\n",
    "\n",
    "    \n",
    "    return accuracy_logs"
   ]
  },
  {
   "cell_type": "code",
   "execution_count": 23,
   "id": "a226bea1",
   "metadata": {
    "scrolled": true
   },
   "outputs": [
    {
     "name": "stderr",
     "output_type": "stream",
     "text": [
      " 17%|███████████████████▏                                                                                               | 1/6 [00:11<00:58, 11.62s/it]"
     ]
    },
    {
     "name": "stdout",
     "output_type": "stream",
     "text": [
      "torch.Size([640, 5])\n",
      "torch.Size([640, 5])\n"
     ]
    },
    {
     "name": "stderr",
     "output_type": "stream",
     "text": [
      " 50%|█████████████████████████████████████████████████████████▌                                                         | 3/6 [00:11<00:08,  2.75s/it]"
     ]
    },
    {
     "name": "stdout",
     "output_type": "stream",
     "text": [
      "torch.Size([640, 5])\n",
      "torch.Size([640, 5])\n"
     ]
    },
    {
     "name": "stderr",
     "output_type": "stream",
     "text": [
      "100%|███████████████████████████████████████████████████████████████████████████████████████████████████████████████████| 6/6 [00:12<00:00,  1.21it/s]"
     ]
    },
    {
     "name": "stdout",
     "output_type": "stream",
     "text": [
      "torch.Size([640, 5])\n",
      "torch.Size([480, 5])\n"
     ]
    },
    {
     "name": "stderr",
     "output_type": "stream",
     "text": [
      "100%|███████████████████████████████████████████████████████████████████████████████████████████████████████████████████| 6/6 [00:12<00:00,  2.13s/it]\n"
     ]
    },
    {
     "data": {
      "text/plain": [
       "{'Total CLIP-Standard Top-1 Accuracy: ': 76.52173638343811}"
      ]
     },
     "execution_count": 23,
     "metadata": {},
     "output_type": "execute_result"
    }
   ],
   "source": [
    "calc_acc(model, oxfordpet_dataset_train, oxfordpet_dataset_train.classes,\n",
    "         count_classes = True, topK=1)"
   ]
  },
  {
   "cell_type": "raw",
   "id": "673296e8",
   "metadata": {},
   "source": [
    "{'Total CLIP-Standard Top-1 Accuracy: ': 88.96157145500183,\n",
    " 'Total CLIP-Standard Top-5 Accuracy: ': 99.75470304489136}"
   ]
  },
  {
   "cell_type": "markdown",
   "id": "33de738b",
   "metadata": {},
   "source": [
    "# Graphs"
   ]
  },
  {
   "cell_type": "code",
   "execution_count": 19,
   "id": "f1ac8f5b",
   "metadata": {},
   "outputs": [],
   "source": [
    "def create_graph(actual_label, top5_pred):\n",
    "    top5labels = list(map(lambda x: x[0], top5_pred))\n",
    "    top5counts = list(map(lambda x: x[1], top5_pred))\n",
    "    colors = ['royalblue' if label == actual_label else 'lightsteelblue' for label in top5labels]\n",
    "    plt.barh(top5labels, top5counts, color=colors)\n",
    "\n",
    "    num_ticks = 6  # Adjust the number of ticks as needed\n",
    "    tick_positions = np.linspace(0, max(top5counts), num_ticks)\n",
    "    plt.xticks(tick_positions, rotation=45, ha='right')  # Set the rotation and horizontal alignment\n",
    "\n",
    "    plt.xlabel('Top-5 counts')\n",
    "    plt.ylabel('Classes')\n",
    "    plt.title('Score-wise Diagram')\n",
    "    \n",
    "    # Show the plot\n",
    "    plt.show()\n"
   ]
  },
  {
   "cell_type": "code",
   "execution_count": 22,
   "id": "7d994de5",
   "metadata": {
    "scrolled": true
   },
   "outputs": [
    {
     "ename": "FileNotFoundError",
     "evalue": "[Errno 2] No such file or directory: 'top1_pets.json'",
     "output_type": "error",
     "traceback": [
      "\u001b[0;31m---------------------------------------------------------------------------\u001b[0m",
      "\u001b[0;31mFileNotFoundError\u001b[0m                         Traceback (most recent call last)",
      "\u001b[0;32m/tmp/ipykernel_256046/677629789.py\u001b[0m in \u001b[0;36m<module>\u001b[0;34m\u001b[0m\n\u001b[0;32m----> 1\u001b[0;31m \u001b[0;32mwith\u001b[0m \u001b[0mopen\u001b[0m\u001b[0;34m(\u001b[0m\u001b[0;34m'top1_pets.json'\u001b[0m\u001b[0;34m,\u001b[0m \u001b[0;34m'r'\u001b[0m\u001b[0;34m)\u001b[0m \u001b[0;32mas\u001b[0m \u001b[0mfile\u001b[0m\u001b[0;34m:\u001b[0m\u001b[0;34m\u001b[0m\u001b[0;34m\u001b[0m\u001b[0m\n\u001b[0m\u001b[1;32m      2\u001b[0m     \u001b[0mtop5\u001b[0m \u001b[0;34m=\u001b[0m \u001b[0mjson\u001b[0m\u001b[0;34m.\u001b[0m\u001b[0mload\u001b[0m\u001b[0;34m(\u001b[0m\u001b[0mfile\u001b[0m\u001b[0;34m)\u001b[0m\u001b[0;34m\u001b[0m\u001b[0;34m\u001b[0m\u001b[0m\n\u001b[1;32m      3\u001b[0m \u001b[0;34m\u001b[0m\u001b[0m\n\u001b[1;32m      4\u001b[0m \u001b[0;32mfor\u001b[0m \u001b[0mclass_\u001b[0m \u001b[0;32min\u001b[0m \u001b[0mtop5\u001b[0m\u001b[0;34m.\u001b[0m\u001b[0mkeys\u001b[0m\u001b[0;34m(\u001b[0m\u001b[0;34m)\u001b[0m\u001b[0;34m:\u001b[0m\u001b[0;34m\u001b[0m\u001b[0;34m\u001b[0m\u001b[0m\n\u001b[1;32m      5\u001b[0m     \u001b[0mcreate_graph\u001b[0m\u001b[0;34m(\u001b[0m\u001b[0mclass_\u001b[0m\u001b[0;34m,\u001b[0m \u001b[0mtop5\u001b[0m\u001b[0;34m[\u001b[0m\u001b[0mclass_\u001b[0m\u001b[0;34m]\u001b[0m\u001b[0;34m[\u001b[0m\u001b[0;36m0\u001b[0m\u001b[0;34m:\u001b[0m\u001b[0;36m5\u001b[0m\u001b[0;34m]\u001b[0m\u001b[0;34m)\u001b[0m\u001b[0;34m\u001b[0m\u001b[0;34m\u001b[0m\u001b[0m\n",
      "\u001b[0;31mFileNotFoundError\u001b[0m: [Errno 2] No such file or directory: 'top1_pets.json'"
     ]
    }
   ],
   "source": [
    "with open('top1_pets.json', 'r') as file:\n",
    "    top5 = json.load(file)\n",
    "\n",
    "for class_ in top5.keys():\n",
    "    create_graph(class_, top5[class_][0:5])"
   ]
  },
  {
   "cell_type": "code",
   "execution_count": 18,
   "id": "ac287c9d",
   "metadata": {
    "scrolled": true
   },
   "outputs": [
    {
     "data": {
      "text/plain": [
       "[['Yorkshire Terrier Dog', 100],\n",
       " ['Havanese Dog', 98],\n",
       " ['Scottish Terrier Dog', 88],\n",
       " ['Wheaten Terrier Dog', 66],\n",
       " ['Miniature Pinscher Dog', 57]]"
      ]
     },
     "execution_count": 18,
     "metadata": {},
     "output_type": "execute_result"
    }
   ],
   "source": [
    "top5[class_][0:5]"
   ]
  },
  {
   "cell_type": "markdown",
   "id": "276fa8bc",
   "metadata": {},
   "source": [
    "# Calc Top-5 using labels"
   ]
  },
  {
   "cell_type": "code",
   "execution_count": 20,
   "id": "652d291d",
   "metadata": {},
   "outputs": [
    {
     "name": "stdout",
     "output_type": "stream",
     "text": [
      "['Miniature Pinscher Dog', 'Sphynx Cat', 'Siamese Cat', 'Bengal Cat']\n",
      "['American Pit Bull Terrier Dog', 'Staffordshire Bull Terrier Dog', 'Boxer Dog', 'Pug Dog']\n",
      "['Staffordshire Bull Terrier Dog', 'American Bulldog Dog', 'Shiba Inu Dog', 'Boxer Dog']\n",
      "['Beagle Dog', 'American Bulldog Dog', 'Shiba Inu Dog', 'American Pit Bull Terrier Dog']\n",
      "['Basset Hound Dog', 'Shiba Inu Dog', 'American Bulldog Dog', 'Chihuahua Dog']\n",
      "['Egyptian Mau Cat', 'Siamese Cat', 'Persian Cat', 'Sphynx Cat']\n",
      "['Ragdoll Cat', 'Siamese Cat', 'Persian Cat', 'Keeshond Dog']\n",
      "['Russian Blue Cat', 'Siamese Cat', 'Sphynx Cat', 'Scottish Terrier Dog']\n",
      "['American Bulldog Dog', 'American Pit Bull Terrier Dog', 'Staffordshire Bull Terrier Dog', 'Pug Dog']\n",
      "['Russian Blue Cat', 'Persian Cat', 'Egyptian Mau Cat', 'Siamese Cat']\n",
      "['Pomeranian Dog', 'Shiba Inu Dog', 'Pug Dog', 'Persian Cat']\n",
      "['British Shorthair Cat', 'Bengal Cat', 'Russian Blue Cat', 'Sphynx Cat']\n",
      "['Havanese Dog', 'Chihuahua Dog', 'Pomeranian Dog', 'English Setter Dog']\n",
      "['Great Pyrenees Dog', 'English Cocker Spaniel Dog', 'German Shorthaired Dog', 'Havanese Dog']\n",
      "['American Pit Bull Terrier Dog', 'Basset Hound Dog', 'American Bulldog Dog', 'English Setter Dog']\n",
      "['Samoyed Dog', 'Saint Bernard Dog', 'Keeshond Dog', 'American Bulldog Dog']\n",
      "['Yorkshire Terrier Dog', 'English Cocker Spaniel Dog', 'Newfoundland Dog', 'Pomeranian Dog']\n",
      "['Birman Cat', 'Havanese Dog', 'Pomeranian Dog', 'Saint Bernard Dog']\n",
      "['Leonberger Dog', 'Pomeranian Dog', 'Samoyed Dog', 'Great Pyrenees Dog']\n",
      "['Keeshond Dog', 'Saint Bernard Dog', 'Newfoundland Dog', 'Great Pyrenees Dog']\n",
      "['Ragdoll Cat', 'Persian Cat', 'Birman Cat', 'Havanese Dog']\n",
      "['Chihuahua Dog', 'Yorkshire Terrier Dog', 'Shiba Inu Dog', 'Sphynx Cat']\n",
      "['Leonberger Dog', 'Havanese Dog', 'Great Pyrenees Dog', 'Saint Bernard Dog']\n",
      "['Pomeranian Dog', 'Ragdoll Cat', 'Chihuahua Dog', 'Siamese Cat']\n",
      "['Chihuahua Dog', 'Persian Cat', 'Shiba Inu Dog', 'Samoyed Dog']\n",
      "['Chihuahua Dog', 'Siamese Cat', 'Pomeranian Dog', 'American Bulldog Dog']\n",
      "['Birman Cat', 'Siamese Cat', 'Persian Cat', 'Samoyed Dog']\n",
      "['British Shorthair Cat', 'Bombay Cat', 'Siamese Cat', 'Sphynx Cat']\n",
      "['Leonberger Dog', 'Great Pyrenees Dog', 'Basset Hound Dog', 'Newfoundland Dog']\n",
      "['Great Pyrenees Dog', 'Pomeranian Dog', 'Shiba Inu Dog', 'Ragdoll Cat']\n",
      "['Yorkshire Terrier Dog', 'Bombay Cat', 'Havanese Dog', 'Pomeranian Dog']\n",
      "['Chihuahua Dog', 'Pomeranian Dog', 'Beagle Dog', 'Staffordshire Bull Terrier Dog']\n",
      "['Ragdoll Cat', 'Sphynx Cat', 'Pug Dog', 'Birman Cat']\n",
      "['Siamese Cat', 'American Pit Bull Terrier Dog', 'Chihuahua Dog', 'American Bulldog Dog']\n",
      "['American Pit Bull Terrier Dog', 'American Bulldog Dog', 'Shiba Inu Dog', 'Boxer Dog']\n",
      "['Leonberger Dog', 'Yorkshire Terrier Dog', 'Havanese Dog', 'Scottish Terrier Dog']\n",
      "['Miniature Pinscher Dog', 'Scottish Terrier Dog', 'Havanese Dog', 'Pomeranian Dog']\n"
     ]
    }
   ],
   "source": [
    "encodings = compute_encodings(model, oxfordpet_dataset_train.classes)\n",
    "encodings_similarity = encodings @ encodings.T\n",
    "topkvalues, topkidx = encodings_similarity.topk(5, dim=1)\n",
    "# print(topkvalues)\n",
    "idx_to_label_dict = idx_to_label(oxfordpet_dataset_train.class_to_idx)\n",
    "for labels in topkidx:\n",
    "    print(list(map(lambda x: idx_to_label_dict[int(x)], labels[1: 6])))"
   ]
  },
  {
   "cell_type": "markdown",
   "id": "5b8f67bc",
   "metadata": {},
   "source": [
    "# Create Attributes of Pairs from Top-5 Distribution"
   ]
  },
  {
   "cell_type": "markdown",
   "id": "9fecbd12",
   "metadata": {},
   "source": [
    "# Generate attributes functions"
   ]
  },
  {
   "cell_type": "code",
   "execution_count": 21,
   "id": "3a416c22",
   "metadata": {},
   "outputs": [],
   "source": [
    "def logs():\n",
    "    logging.basicConfig(\n",
    "        level=logging.DEBUG,            # Set the minimum log level to DEBUG\n",
    "        filename='gpt_3_my_cub.log',        # Specify the log file name\n",
    "        format='%(asctime)s - %(name)s - %(levelname)s - %(message)s'\n",
    "    )\n",
    "\n",
    "    logger = logging.getLogger(__name__)\n",
    "    return logger\n"
   ]
  },
  {
   "cell_type": "code",
   "execution_count": 22,
   "id": "d2e43eb6",
   "metadata": {},
   "outputs": [],
   "source": [
    "def get_completion(prompt, logger, model=\"gpt-3.5-turbo\", temperature=0., max_tokens=300):\n",
    "    messages = [{'role':'system', 'content':\"\"\"\n",
    "    Use this as an example to generate you answers for user's query. Give the answer in a JSON format just like given in the example\n",
    "\n",
    "    ```Q: What are useful visual features for distinguishing a tiger from a lion in a photo?\n",
    "       A: There are several useful visual features to tell the difference between a tiger and a lion in a photo:-\n",
    "\n",
    "\n",
    "        {\n",
    "            \"tiger\": [\n",
    "                     \"have orange coats with vertical 'black' stripes\",\n",
    "                     \"are generally larger and robust\",\n",
    "                     \"often have a more rounded face with prominent cheekbones\",\n",
    "                     \"ears are usually smaller and rounded\",\n",
    "                     \"tails are long and have a characteristic 'white spot' at the tip\",\n",
    "                     \"are found in a variety of habitats, including dense forests and grasslands\"\n",
    "                     ],\n",
    "\n",
    "            \"lion\": [\n",
    "                    \"typically have a tawny or 'beige coat', and their fur is often smoother and they have a mane\",\n",
    "                    \"have a more compact and muscular build\",\n",
    "                    \"lions may have a more squared-off face\",\n",
    "                    \"ears are large and often have a more pointed shape\",\n",
    "                    \"tails are shorter, ending in a tuft of hair\",\n",
    "                    \"habitats are savannas and open woodlands\"\n",
    "                    ]\n",
    "        }\n",
    "        ```\n",
    "    Remember not to use the first class name in the response of second class and vice-a-versa. For example here, in the answer for tiger do not use lion and in answer for lion do not use the word tiger.\n",
    "\"\"\"},\n",
    "    {\"role\": \"user\", \"content\": prompt}]\n",
    "    \n",
    "    try:\n",
    "        logger.debug(f'Input: {messages}')\n",
    "        response = openai.ChatCompletion.create(\n",
    "            model=model,\n",
    "            messages=messages,\n",
    "            temperature=temperature,\n",
    "            max_tokens=max_tokens\n",
    "        )\n",
    "        logger.debug(f'Output: {response}')\n",
    "    except Exception as e:\n",
    "        logger.error(f'error: {str(e)}')\n",
    "        raise e\n",
    "    return response.choices[0].message[\"content\"]"
   ]
  },
  {
   "cell_type": "code",
   "execution_count": null,
   "id": "44aa1c55",
   "metadata": {},
   "outputs": [],
   "source": [
    "()"
   ]
  },
  {
   "cell_type": "markdown",
   "id": "662279ec",
   "metadata": {},
   "source": [
    "# Create Attributes of Pairs from Top-5 Distribution"
   ]
  },
  {
   "cell_type": "code",
   "execution_count": 23,
   "id": "f1cca9bc",
   "metadata": {},
   "outputs": [],
   "source": [
    "def generate_attributes(class1, class2):\n",
    "    logger = logs()\n",
    "    \n",
    "    prompt = f\"\"\"\n",
    "    Q: What are useful features for distinguishing a {class1} from {class2} in a photo?\n",
    "    A: There are several useful visual features to tell the difference between a {class1} and a {class2} in a photo\n",
    "    \"\"\"\n",
    "    print(prompt)\n",
    "    response = get_completion(prompt, logger)\n",
    "#     response = get_completion_dummy(prompt)\n",
    "    answer = response\n",
    "    print(response)\n",
    "    \n",
    "    return answer"
   ]
  },
  {
   "cell_type": "code",
   "execution_count": 24,
   "id": "1e65ea7f",
   "metadata": {},
   "outputs": [],
   "source": [
    "def generate_attributes_dummy(class1, class2):\n",
    "    logger = logs()\n",
    "    \n",
    "    prompt = f\"\"\"\n",
    "    Q: What are useful features for distinguishing a {class1} from {class2} in a photo?\n",
    "    A: There are several useful visual features to tell the difference between a {class1} and a {class2} in a photo\n",
    "    \"\"\"\n",
    "#     print(prompt)\n",
    "    return \"\"\"aasdasd\n",
    "    asfasfasfdas\n",
    "    {\n",
    "    \"Laysan Albatross\": [\n",
    "    \"have a white head and neck with a dark eye patch\",\n",
    "    \"have a black upperwing with a white trailing edge\",\n",
    "    \"underside is mostly white with dark edges on the underwing\",\n",
    "    \"have a pink bill with a dark tip\",\n",
    "    \"are generally medium-sized with a wingspan of around 6 feet\",\n",
    "    \"nest in the Northwestern Hawaiian Islands\"\n",
    "    ],\n",
    "\n",
    "    \"Sooty Albatross\": [\n",
    "        \"have a dark plumage overall, including the head and neck\",\n",
    "        \"have a uniformly dark upperwing without a distinct pattern\",\n",
    "        \"underside is dark, often with paler edges on the underwing\",\n",
    "        \"have a dark bill without significant markings\",\n",
    "        \"are larger in size with a wingspan of around 7 feet\",\n",
    "        \"nest on sub-Antarctic islands and some isolated islands in the Southern Ocean\"\n",
    "    ]\n",
    "    }sfsdfsdfsdf\"\"\""
   ]
  },
  {
   "cell_type": "code",
   "execution_count": 25,
   "id": "0b4ff627",
   "metadata": {},
   "outputs": [],
   "source": [
    "def process_response(response):\n",
    "    try:\n",
    "        json_response = response\n",
    "        json.loads(json_response)\n",
    "    except Exception as e:\n",
    "        lines = response.split('\\n')\n",
    "        json_response = ''\n",
    "        for index, line in enumerate(lines):\n",
    "            if line.find('{') != -1:\n",
    "                json_response = line[line.find('{'):] + \"\\n\"\n",
    "                index += 1\n",
    "                while index < len(lines) and lines[index].find('}') == -1:\n",
    "                    json_response += lines[index]\n",
    "                    index += 1\n",
    "                if index < len(lines) and lines[index].find('}') != -1:\n",
    "                    json_response += lines[index][:lines[index].find('}')+1]\n",
    "                    break\n",
    "                else:\n",
    "                    html_string = f'<font color=\"red\">{str(response)}</font>'\n",
    "                    display(HTML(html_string))\n",
    "    return json.loads(json_response)"
   ]
  },
  {
   "cell_type": "code",
   "execution_count": 26,
   "id": "df7e72c9",
   "metadata": {},
   "outputs": [],
   "source": [
    "def convert_to_json(dict_set):\n",
    "    json_dict = dict_set.copy()\n",
    "    for key in dict_set.keys():\n",
    "        json_dict[key] = list(dict_set[key])\n",
    "    return json.dumps(json_dict, indent=4)"
   ]
  },
  {
   "cell_type": "code",
   "execution_count": 36,
   "id": "96484e08",
   "metadata": {},
   "outputs": [],
   "source": [
    "descriptor_dict = dict()"
   ]
  },
  {
   "cell_type": "code",
   "execution_count": 37,
   "id": "ed36dc37",
   "metadata": {
    "scrolled": true
   },
   "outputs": [
    {
     "name": "stderr",
     "output_type": "stream",
     "text": [
      "\r",
      "  0%|                                                    | 0/37 [00:00<?, ?it/s]"
     ]
    },
    {
     "name": "stdout",
     "output_type": "stream",
     "text": [
      "\n",
      "    Q: What are useful features for distinguishing a Abyssinian Cat from Siamese Cat in a photo?\n",
      "    A: There are several useful visual features to tell the difference between a Abyssinian Cat and a Siamese Cat in a photo\n",
      "    \n"
     ]
    },
    {
     "name": "stderr",
     "output_type": "stream",
     "text": [
      "\r",
      "  3%|█▏                                          | 1/37 [00:06<03:39,  6.11s/it]"
     ]
    },
    {
     "name": "stdout",
     "output_type": "stream",
     "text": [
      "{\n",
      "    \"Abyssinian Cat\": [\n",
      "        \"have a short, ticked coat with a warm reddish-brown color\",\n",
      "        \"have a slender and athletic build\",\n",
      "        \"have almond-shaped eyes that are usually green or gold\",\n",
      "        \"have a wedge-shaped head with large ears that are set wide apart\",\n",
      "        \"have a short tail that tapers to a point\"\n",
      "    ],\n",
      "    \"Siamese Cat\": [\n",
      "        \"have a short, sleek coat with a color point pattern\",\n",
      "        \"have a slim and elegant build\",\n",
      "        \"have striking blue almond-shaped eyes\",\n",
      "        \"have a triangular-shaped head with large ears that are set close together\",\n",
      "        \"have a long, slender tail\"\n",
      "    ]\n",
      "}\n",
      "\n",
      "    Q: What are useful features for distinguishing a American Bulldog Dog from American Pit Bull Terrier Dog in a photo?\n",
      "    A: There are several useful visual features to tell the difference between a American Bulldog Dog and a American Pit Bull Terrier Dog in a photo\n",
      "    \n"
     ]
    },
    {
     "name": "stderr",
     "output_type": "stream",
     "text": [
      "\r",
      "  5%|██▍                                         | 2/37 [00:14<04:10,  7.16s/it]"
     ]
    },
    {
     "name": "stdout",
     "output_type": "stream",
     "text": [
      "{\n",
      "    \"American Bulldog Dog\": [\n",
      "        \"have a large and muscular build\",\n",
      "        \"have a broad and square-shaped head\",\n",
      "        \"often have a wrinkled forehead\",\n",
      "        \"ears are typically medium-sized and can be either rose-shaped or drop-shaped\",\n",
      "        \"have a short coat that can come in various colors, including white, brindle, or fawn\",\n",
      "        \"have a strong and powerful jaw\"\n",
      "    ],\n",
      "    \"American Pit Bull Terrier Dog\": [\n",
      "        \"have a medium-sized and athletic build\",\n",
      "        \"have a more streamlined and wedge-shaped head\",\n",
      "        \"ears are usually medium-sized and can be either cropped or left natural\",\n",
      "        \"have a short coat that can come in various colors, including brindle, black, or blue\",\n",
      "        \"have a muscular neck and shoulders\",\n",
      "        \"have a strong and determined expression\"\n",
      "    ]\n",
      "}\n",
      "\n",
      "    Q: What are useful features for distinguishing a Basset Hound Dog from Beagle Dog in a photo?\n",
      "    A: There are several useful visual features to tell the difference between a Basset Hound Dog and a Beagle Dog in a photo\n",
      "    \n"
     ]
    },
    {
     "name": "stderr",
     "output_type": "stream",
     "text": [
      "\r",
      " 11%|████▊                                       | 4/37 [00:19<02:20,  4.25s/it]"
     ]
    },
    {
     "name": "stdout",
     "output_type": "stream",
     "text": [
      "{\n",
      "    \"Basset Hound Dog\": [\n",
      "        \"have long, droopy ears that hang down\",\n",
      "        \"have a long body with short legs\",\n",
      "        \"have a wrinkled face with loose skin\",\n",
      "        \"have a deep, mournful expression\",\n",
      "        \"have a short, smooth coat\",\n",
      "        \"are generally larger and heavier\"\n",
      "    ],\n",
      "    \"Beagle Dog\": [\n",
      "        \"have shorter, more upright ears\",\n",
      "        \"have a compact body with medium-length legs\",\n",
      "        \"have a more alert and curious expression\",\n",
      "        \"have a short, dense coat\",\n",
      "        \"are generally smaller and lighter\"\n",
      "    ]\n",
      "}\n",
      "\n",
      "    Q: What are useful features for distinguishing a Bengal Cat from Abyssinian Cat in a photo?\n",
      "    A: There are several useful visual features to tell the difference between a Bengal Cat and a Abyssinian Cat in a photo\n",
      "    \n"
     ]
    },
    {
     "name": "stderr",
     "output_type": "stream",
     "text": [
      "\r",
      " 16%|███████▏                                    | 6/37 [00:25<01:57,  3.81s/it]"
     ]
    },
    {
     "name": "stdout",
     "output_type": "stream",
     "text": [
      "{\n",
      "    \"Bengal Cat\": [\n",
      "        \"have distinctive spotted or marbled coats\",\n",
      "        \"coats are usually brown or gold with black markings\",\n",
      "        \"have a muscular and athletic build\",\n",
      "        \"often have a sleek and shiny coat\",\n",
      "        \"have a more rounded face with prominent cheekbones\",\n",
      "        \"ears are usually small and rounded\",\n",
      "        \"tails are long and have a characteristic ringed pattern\"\n",
      "    ],\n",
      "    \"Abyssinian Cat\": [\n",
      "        \"have short and ticked coats\",\n",
      "        \"coats are usually a warm reddish-brown color\",\n",
      "        \"have a slender and graceful build\",\n",
      "        \"often have a soft and silky coat\",\n",
      "        \"have a more triangular face with large almond-shaped eyes\",\n",
      "        \"ears are large and often have a pointed shape\",\n",
      "        \"tails are long and taper towards the tip\"\n",
      "    ]\n",
      "}\n",
      "\n",
      "    Q: What are useful features for distinguishing a Birman Cat from Persian Cat in a photo?\n",
      "    A: There are several useful visual features to tell the difference between a Birman Cat and a Persian Cat in a photo\n",
      "    \n"
     ]
    },
    {
     "name": "stderr",
     "output_type": "stream",
     "text": [
      "\r",
      " 19%|████████▎                                   | 7/37 [00:32<02:20,  4.69s/it]"
     ]
    },
    {
     "name": "stdout",
     "output_type": "stream",
     "text": [
      "{\n",
      "    \"Birman Cat\": [\n",
      "        \"have a medium-sized body with a muscular build\",\n",
      "        \"have a semi-long, silky coat that comes in a variety of colors, including seal, blue, chocolate, and lilac\",\n",
      "        \"have striking blue eyes\",\n",
      "        \"have a distinctive color pattern called 'points', where the face, ears, paws, and tail are darker than the rest of the body\",\n",
      "        \"have a sweet and gentle expression\"\n",
      "    ],\n",
      "    \"Persian Cat\": [\n",
      "        \"have a large, round body with a stocky build\",\n",
      "        \"have a long, thick coat that comes in a variety of colors, including white, black, blue, and cream\",\n",
      "        \"have large, round eyes that can be various colors\",\n",
      "        \"have a flat face with a short nose\",\n",
      "        \"have a calm and placid expression\"\n",
      "    ]\n",
      "}\n",
      "\n",
      "    Q: What are useful features for distinguishing a Bombay Cat from Russian Blue Cat in a photo?\n",
      "    A: There are several useful visual features to tell the difference between a Bombay Cat and a Russian Blue Cat in a photo\n",
      "    \n"
     ]
    },
    {
     "name": "stderr",
     "output_type": "stream",
     "text": [
      "\r",
      " 22%|█████████▌                                  | 8/37 [00:37<02:17,  4.75s/it]"
     ]
    },
    {
     "name": "stdout",
     "output_type": "stream",
     "text": [
      "{\n",
      "    \"Bombay Cat\": [\n",
      "        \"have a sleek and shiny black coat\",\n",
      "        \"have a muscular and medium-sized body\",\n",
      "        \"have round and expressive copper or gold eyes\",\n",
      "        \"have a short and straight tail\",\n",
      "        \"have a rounded head shape\"\n",
      "    ],\n",
      "    \"Russian Blue Cat\": [\n",
      "        \"have a dense and plush blue-gray coat\",\n",
      "        \"have a slender and medium-sized body\",\n",
      "        \"have large and round green eyes\",\n",
      "        \"have a long and tapering tail\",\n",
      "        \"have a wedge-shaped head with straight profile\"\n",
      "    ]\n",
      "}\n",
      "\n",
      "    Q: What are useful features for distinguishing a Boxer Dog from American Bulldog Dog in a photo?\n",
      "    A: There are several useful visual features to tell the difference between a Boxer Dog and a American Bulldog Dog in a photo\n",
      "    \n"
     ]
    },
    {
     "name": "stderr",
     "output_type": "stream",
     "text": [
      "\r",
      " 24%|██████████▋                                 | 9/37 [00:44<02:29,  5.34s/it]"
     ]
    },
    {
     "name": "stdout",
     "output_type": "stream",
     "text": [
      "{\n",
      "    \"Boxer Dog\": [\n",
      "        \"have a square-shaped head with a strong jawline\",\n",
      "        \"have a short coat that is smooth and shiny\",\n",
      "        \"have a muscular build with a deep chest\",\n",
      "        \"have a distinctive underbite\",\n",
      "        \"have a docked tail that is set high\",\n",
      "        \"have a brachycephalic (short-nosed) face\"\n",
      "    ],\n",
      "    \"American Bulldog Dog\": [\n",
      "        \"have a large, square-shaped head with a broad muzzle\",\n",
      "        \"have a short coat that is dense and coarse\",\n",
      "        \"have a stocky and muscular build\",\n",
      "        \"have a pronounced underbite\",\n",
      "        \"have a natural, medium-length tail\",\n",
      "        \"have a mesocephalic (medium-nosed) face\"\n",
      "    ]\n",
      "}\n",
      "\n",
      "    Q: What are useful features for distinguishing a British Shorthair Cat from Russian Blue Cat in a photo?\n",
      "    A: There are several useful visual features to tell the difference between a British Shorthair Cat and a Russian Blue Cat in a photo\n",
      "    \n"
     ]
    },
    {
     "name": "stderr",
     "output_type": "stream",
     "text": [
      "\r",
      " 27%|███████████▌                               | 10/37 [00:50<02:30,  5.58s/it]"
     ]
    },
    {
     "name": "stdout",
     "output_type": "stream",
     "text": [
      "{\n",
      "    \"British Shorthair Cat\": [\n",
      "        \"have a round face with chubby cheeks\",\n",
      "        \"have a dense and plush coat\",\n",
      "        \"come in a variety of colors and patterns, including solid colors like blue, black, and white\",\n",
      "        \"have a stocky and muscular build\",\n",
      "        \"have round and large eyes\",\n",
      "        \"have a short and thick tail\"\n",
      "    ],\n",
      "    \"Russian Blue Cat\": [\n",
      "        \"have a triangular-shaped face with a straight profile\",\n",
      "        \"have a short and dense coat that is bluish-gray in color\",\n",
      "        \"have a slender and graceful build\",\n",
      "        \"have almond-shaped green eyes\",\n",
      "        \"have a long and slender tail\",\n",
      "        \"have a more elegant and sleek appearance\"\n",
      "    ]\n",
      "}\n",
      "\n",
      "    Q: What are useful features for distinguishing a Chihuahua Dog from Miniature Pinscher Dog in a photo?\n",
      "    A: There are several useful visual features to tell the difference between a Chihuahua Dog and a Miniature Pinscher Dog in a photo\n",
      "    \n"
     ]
    },
    {
     "name": "stderr",
     "output_type": "stream",
     "text": [
      "\r",
      " 30%|████████████▊                              | 11/37 [00:58<02:38,  6.10s/it]"
     ]
    },
    {
     "name": "stdout",
     "output_type": "stream",
     "text": [
      "{\n",
      "    \"Chihuahua Dog\": [\n",
      "        \"have a small size, typically weighing less than 6 pounds\",\n",
      "        \"have a rounded head with large, round eyes\",\n",
      "        \"ears are large and stand upright\",\n",
      "        \"have a short coat that can be smooth or long\",\n",
      "        \"coat colors can vary, including tan, black, white, and brown\",\n",
      "        \"have a distinct apple-shaped head with a short muzzle\"\n",
      "    ],\n",
      "    \"Miniature Pinscher Dog\": [\n",
      "        \"are slightly larger than Chihuahuas, weighing between 8 and 12 pounds\",\n",
      "        \"have a more slender and athletic build\",\n",
      "        \"have a more pointed head with almond-shaped eyes\",\n",
      "        \"ears are medium-sized and stand upright\",\n",
      "        \"have a short, smooth coat that is usually black and tan\",\n",
      "        \"have a more elongated muzzle compared to Chihuahuas\"\n",
      "    ]\n",
      "}\n",
      "\n",
      "    Q: What are useful features for distinguishing a Egyptian Mau Cat from Bengal Cat in a photo?\n",
      "    A: There are several useful visual features to tell the difference between a Egyptian Mau Cat and a Bengal Cat in a photo\n",
      "    \n"
     ]
    },
    {
     "name": "stderr",
     "output_type": "stream",
     "text": [
      "\r",
      " 32%|█████████████▉                             | 12/37 [01:05<02:43,  6.53s/it]"
     ]
    },
    {
     "name": "stdout",
     "output_type": "stream",
     "text": [
      "{\n",
      "    \"Egyptian Mau Cat\": [\n",
      "        \"have a medium-sized body with a muscular build\",\n",
      "        \"have a short, dense coat with a spotted or marbled pattern\",\n",
      "        \"often have a distinctive 'M' marking on their forehead\",\n",
      "        \"have almond-shaped eyes that are usually green\",\n",
      "        \"ears are medium-sized and slightly pointed\",\n",
      "        \"tails are medium-length and taper towards the tip\"\n",
      "    ],\n",
      "    \"Bengal Cat\": [\n",
      "        \"have a medium to large-sized body with a muscular build\",\n",
      "        \"have a short, dense coat with a spotted or marbled pattern\",\n",
      "        \"often have a distinctive 'wild' appearance\",\n",
      "        \"have large, round eyes that can be various colors\",\n",
      "        \"ears are medium to large-sized and have a slightly rounded tip\",\n",
      "        \"tails are medium to long and have a thick base, tapering towards the tip\"\n",
      "    ]\n",
      "}\n",
      "\n",
      "    Q: What are useful features for distinguishing a English Cocker Spaniel Dog from English Setter Dog in a photo?\n",
      "    A: There are several useful visual features to tell the difference between a English Cocker Spaniel Dog and a English Setter Dog in a photo\n",
      "    \n"
     ]
    },
    {
     "name": "stderr",
     "output_type": "stream",
     "text": [
      "\r",
      " 35%|███████████████                            | 13/37 [01:13<02:42,  6.79s/it]"
     ]
    },
    {
     "name": "stdout",
     "output_type": "stream",
     "text": [
      "{\n",
      "    \"English Cocker Spaniel Dog\": [\n",
      "        \"have a medium-sized build with a sturdy and compact body\",\n",
      "        \"have a long, silky coat that is usually solid in color or with some markings\",\n",
      "        \"have long, droopy ears that hang down close to their face\",\n",
      "        \"have a rounded head with a well-defined stop\",\n",
      "        \"have a shorter muzzle with a square-shaped nose\",\n",
      "        \"have a docked tail or a naturally short tail\"\n",
      "    ],\n",
      "    \"English Setter Dog\": [\n",
      "        \"have a larger build with a lean and athletic body\",\n",
      "        \"have a medium to long, silky coat that is usually white with patches of color\",\n",
      "        \"have long, feathered ears that hang down close to their face\",\n",
      "        \"have a long, narrow head with a defined stop\",\n",
      "        \"have a longer muzzle with a pointed nose\",\n",
      "        \"have a long, feathered tail\"\n",
      "    ]\n",
      "}\n",
      "\n",
      "    Q: What are useful features for distinguishing a German Shorthaired Dog from English Setter Dog in a photo?\n",
      "    A: There are several useful visual features to tell the difference between a German Shorthaired Dog and a English Setter Dog in a photo\n",
      "    \n"
     ]
    },
    {
     "name": "stderr",
     "output_type": "stream",
     "text": [
      "\r",
      " 41%|█████████████████▍                         | 15/37 [01:19<01:52,  5.11s/it]"
     ]
    },
    {
     "name": "stdout",
     "output_type": "stream",
     "text": [
      "{\n",
      "    \"German Shorthaired Dog\": [\n",
      "        \"have short, dense coats that are usually solid liver or liver and white\",\n",
      "        \"have a more athletic and streamlined build\",\n",
      "        \"ears are medium-sized and set high on the head\",\n",
      "        \"tails are usually docked to a medium length\",\n",
      "        \"are known for their hunting abilities and versatility in the field\"\n",
      "    ],\n",
      "    \"English Setter Dog\": [\n",
      "        \"have longer, silky coats that are usually white with speckles or patches of color\",\n",
      "        \"have a more elegant and graceful build\",\n",
      "        \"ears are long and hang down close to the head\",\n",
      "        \"tails are long and feathered\",\n",
      "        \"are known for their gentle and friendly nature\"\n",
      "    ]\n",
      "}\n",
      "\n",
      "    Q: What are useful features for distinguishing a Great Pyrenees Dog from Samoyed Dog in a photo?\n",
      "    A: There are several useful visual features to tell the difference between a Great Pyrenees Dog and a Samoyed Dog in a photo\n",
      "    \n"
     ]
    },
    {
     "name": "stderr",
     "output_type": "stream",
     "text": [
      "\r",
      " 43%|██████████████████▌                        | 16/37 [01:26<01:58,  5.66s/it]"
     ]
    },
    {
     "name": "stdout",
     "output_type": "stream",
     "text": [
      "{\n",
      "    \"Great Pyrenees Dog\": [\n",
      "        \"have a thick double coat that is usually white in color\",\n",
      "        \"are large and muscular dogs with a strong build\",\n",
      "        \"have a broad head with a slightly rounded skull\",\n",
      "        \"ears are medium-sized and set high on the head\",\n",
      "        \"have a long, fluffy tail that curls over the back\",\n",
      "        \"are known for their calm and gentle temperament\"\n",
      "    ],\n",
      "    \"Samoyed Dog\": [\n",
      "        \"also have a thick double coat, but it can be white, cream, or biscuit in color\",\n",
      "        \"are slightly smaller and more compact than Great Pyrenees Dogs\",\n",
      "        \"have a wedge-shaped head with a slightly domed skull\",\n",
      "        \"ears are erect and set high on the head\",\n",
      "        \"have a long, bushy tail that curls over the back\",\n",
      "        \"are known for their friendly and outgoing personality\"\n",
      "    ]\n",
      "}\n",
      "\n",
      "    Q: What are useful features for distinguishing a Havanese Dog from Yorkshire Terrier Dog in a photo?\n",
      "    A: There are several useful visual features to tell the difference between a Havanese Dog and a Yorkshire Terrier Dog in a photo\n",
      "    \n"
     ]
    },
    {
     "name": "stderr",
     "output_type": "stream",
     "text": [
      "\r",
      " 46%|███████████████████▊                       | 17/37 [01:32<01:51,  5.56s/it]"
     ]
    },
    {
     "name": "stdout",
     "output_type": "stream",
     "text": [
      "{\n",
      "    \"Havanese Dog\": [\n",
      "        \"have a longer and silkier coat\",\n",
      "        \"often have a more rounded face with a shorter snout\",\n",
      "        \"ears are usually longer and hang down\",\n",
      "        \"tails are carried over the back\",\n",
      "        \"are generally larger in size\"\n",
      "    ],\n",
      "    \"Yorkshire Terrier Dog\": [\n",
      "        \"have a shorter and smoother coat\",\n",
      "        \"often have a more angular face with a longer snout\",\n",
      "        \"ears are usually smaller and stand up\",\n",
      "        \"tails are docked or naturally short\",\n",
      "        \"are generally smaller in size\"\n",
      "    ]\n",
      "}\n",
      "\n",
      "    Q: What are useful features for distinguishing a Japanese Chin Dog from Pomeranian Dog in a photo?\n",
      "    A: There are several useful visual features to tell the difference between a Japanese Chin Dog and a Pomeranian Dog in a photo\n",
      "    \n"
     ]
    },
    {
     "name": "stderr",
     "output_type": "stream",
     "text": [
      "\r",
      " 49%|████████████████████▉                      | 18/37 [01:38<01:48,  5.72s/it]"
     ]
    },
    {
     "name": "stdout",
     "output_type": "stream",
     "text": [
      "{\n",
      "    \"Japanese Chin Dog\": [\n",
      "        \"have a small and compact body\",\n",
      "        \"have a flat face with large, round eyes\",\n",
      "        \"ears are set high on the head and are feathered\",\n",
      "        \"have a silky, straight coat that comes in various colors\",\n",
      "        \"have a plumed tail that curls over the back\"\n",
      "    ],\n",
      "    \"Pomeranian Dog\": [\n",
      "        \"have a small and compact body\",\n",
      "        \"have a fox-like face with small, almond-shaped eyes\",\n",
      "        \"ears are set high on the head and stand erect\",\n",
      "        \"have a thick double coat that comes in various colors\",\n",
      "        \"have a plumed tail that curls over the back\"\n",
      "    ]\n",
      "}\n",
      "\n",
      "    Q: What are useful features for distinguishing a Keeshond Dog from Pomeranian Dog in a photo?\n",
      "    A: There are several useful visual features to tell the difference between a Keeshond Dog and a Pomeranian Dog in a photo\n",
      "    \n"
     ]
    },
    {
     "name": "stderr",
     "output_type": "stream",
     "text": [
      "\r",
      " 51%|██████████████████████                     | 19/37 [01:44<01:44,  5.80s/it]"
     ]
    },
    {
     "name": "stdout",
     "output_type": "stream",
     "text": [
      "{\n",
      "    \"Keeshond Dog\": [\n",
      "        \"have a thick double coat with a dense undercoat\",\n",
      "        \"have a distinct ruff around their neck\",\n",
      "        \"ears are medium-sized and erect\",\n",
      "        \"have a fox-like face with a wedge-shaped head\",\n",
      "        \"tails are plumed and carried over their back\",\n",
      "        \"are generally larger in size\"\n",
      "    ],\n",
      "    \"Pomeranian Dog\": [\n",
      "        \"have a thick double coat with a fluffy appearance\",\n",
      "        \"may have a lion-like mane around their neck\",\n",
      "        \"ears are small and erect\",\n",
      "        \"have a teddy bear-like face with a rounded head\",\n",
      "        \"tails are plumed and carried over their back\",\n",
      "        \"are generally smaller in size\"\n",
      "    ]\n",
      "}\n",
      "\n",
      "    Q: What are useful features for distinguishing a Leonberger Dog from Newfoundland Dog in a photo?\n",
      "    A: There are several useful visual features to tell the difference between a Leonberger Dog and a Newfoundland Dog in a photo\n",
      "    \n"
     ]
    },
    {
     "name": "stderr",
     "output_type": "stream",
     "text": [
      "\r",
      " 54%|███████████████████████▏                   | 20/37 [01:51<01:45,  6.21s/it]"
     ]
    },
    {
     "name": "stdout",
     "output_type": "stream",
     "text": [
      "{\n",
      "    \"Leonberger Dog\": [\n",
      "        \"have a thick, double coat that is usually a golden or red color\",\n",
      "        \"are large and muscular, with a sturdy build\",\n",
      "        \"have a broad head with a slightly arched forehead\",\n",
      "        \"ears are medium-sized and hang down close to the head\",\n",
      "        \"have a long, bushy tail that hangs down when at rest\",\n",
      "        \"are known for their friendly and gentle temperament\"\n",
      "    ],\n",
      "    \"Newfoundland Dog\": [\n",
      "        \"have a thick, water-resistant double coat that is usually black, brown, or gray\",\n",
      "        \"are also large and muscular, but have a more massive build\",\n",
      "        \"have a broad head with a straight or slightly convex profile\",\n",
      "        \"ears are medium-sized and hang down close to the head\",\n",
      "        \"have a long, thick tail that hangs down when at rest\",\n",
      "        \"are known for their calm and gentle nature\"\n",
      "    ]\n",
      "}\n",
      "\n",
      "    Q: What are useful features for distinguishing a Maine Coon Cat from Persian Cat in a photo?\n",
      "    A: There are several useful visual features to tell the difference between a Maine Coon Cat and a Persian Cat in a photo\n",
      "    \n"
     ]
    },
    {
     "name": "stderr",
     "output_type": "stream",
     "text": [
      "\r",
      " 57%|████████████████████████▍                  | 21/37 [01:56<01:35,  5.97s/it]"
     ]
    },
    {
     "name": "stdout",
     "output_type": "stream",
     "text": [
      "{\n",
      "    \"Maine Coon Cat\": [\n",
      "        \"have a large and muscular build\",\n",
      "        \"have tufted ears with lynx-like tips\",\n",
      "        \"have a long and bushy tail\",\n",
      "        \"have a shaggy and water-resistant coat\",\n",
      "        \"have a rectangular-shaped body\",\n",
      "        \"have a more rugged and wild appearance\"\n",
      "    ],\n",
      "    \"Persian Cat\": [\n",
      "        \"have a small and round face\",\n",
      "        \"have a flat and pushed-in nose\",\n",
      "        \"have large and round eyes\",\n",
      "        \"have a dense and luxurious coat\",\n",
      "        \"have a stocky and cobby body\",\n",
      "        \"have a more delicate and refined appearance\"\n",
      "    ]\n",
      "}\n",
      "\n",
      "    Q: What are useful features for distinguishing a Pomeranian Dog from Chihuahua Dog in a photo?\n",
      "    A: There are several useful visual features to tell the difference between a Pomeranian Dog and a Chihuahua Dog in a photo\n",
      "    \n"
     ]
    },
    {
     "name": "stderr",
     "output_type": "stream",
     "text": [
      "\r",
      " 68%|█████████████████████████████              | 25/37 [02:03<00:40,  3.34s/it]"
     ]
    },
    {
     "name": "stdout",
     "output_type": "stream",
     "text": [
      "{\n",
      "    \"Pomeranian Dog\": [\n",
      "        \"have a fluffy double coat with a thick ruff around the neck\",\n",
      "        \"are generally larger in size\",\n",
      "        \"often have a fox-like face with a pointed snout\",\n",
      "        \"ears are small and erect\",\n",
      "        \"tails are plumed and carried over the back\",\n",
      "        \"come in a variety of colors, including orange, red, cream, and black\"\n",
      "    ],\n",
      "    \"Chihuahua Dog\": [\n",
      "        \"typically have a short and smooth coat\",\n",
      "        \"are generally smaller in size\",\n",
      "        \"have a rounded apple-shaped head\",\n",
      "        \"ears are large and stand upright\",\n",
      "        \"tails are long and carried high or curled over the back\",\n",
      "        \"come in a variety of colors, including fawn, black, white, and tan\"\n",
      "    ]\n",
      "}\n",
      "\n",
      "    Q: What are useful features for distinguishing a Pug Dog from American Bulldog Dog in a photo?\n",
      "    A: There are several useful visual features to tell the difference between a Pug Dog and a American Bulldog Dog in a photo\n",
      "    \n"
     ]
    },
    {
     "name": "stderr",
     "output_type": "stream",
     "text": [
      "\r",
      " 70%|██████████████████████████████▏            | 26/37 [02:09<00:41,  3.81s/it]"
     ]
    },
    {
     "name": "stdout",
     "output_type": "stream",
     "text": [
      "{\n",
      "    \"Pug Dog\": [\n",
      "        \"have a wrinkled face with a flat nose\",\n",
      "        \"have a compact and muscular build\",\n",
      "        \"ears are small and folded\",\n",
      "        \"have a short and curly tail\",\n",
      "        \"coat colors can vary, but often include fawn, black, or silver\"\n",
      "    ],\n",
      "    \"American Bulldog Dog\": [\n",
      "        \"have a square-shaped head with a pronounced jaw\",\n",
      "        \"have a large and muscular build\",\n",
      "        \"ears are medium-sized and can be either cropped or left natural\",\n",
      "        \"have a medium-length tail that is straight or slightly curved\",\n",
      "        \"coat colors can vary, but often include white with patches of brindle, fawn, or brown\"\n",
      "    ]\n",
      "}\n",
      "\n",
      "    Q: What are useful features for distinguishing a Ragdoll Cat from Birman Cat in a photo?\n",
      "    A: There are several useful visual features to tell the difference between a Ragdoll Cat and a Birman Cat in a photo\n",
      "    \n"
     ]
    },
    {
     "name": "stderr",
     "output_type": "stream",
     "text": [
      "\r",
      " 73%|███████████████████████████████▍           | 27/37 [02:15<00:42,  4.27s/it]"
     ]
    },
    {
     "name": "stdout",
     "output_type": "stream",
     "text": [
      "{\n",
      "    \"Ragdoll Cat\": [\n",
      "        \"have semi-long hair with a silky texture\",\n",
      "        \"are known for their striking blue eyes\",\n",
      "        \"have a large and muscular body\",\n",
      "        \"have a broad head with a flat profile\",\n",
      "        \"have a soft and plush coat\",\n",
      "        \"come in a variety of colors and patterns\"\n",
      "    ],\n",
      "    \"Birman Cat\": [\n",
      "        \"have medium-length hair with a silky texture\",\n",
      "        \"also have striking blue eyes\",\n",
      "        \"have a medium-sized and muscular body\",\n",
      "        \"have a rounded head with a Roman nose\",\n",
      "        \"have a silky and glossy coat\",\n",
      "        \"have a color-point pattern with darker points on the ears, face, paws, and tail\"\n",
      "    ]\n",
      "}\n",
      "\n",
      "    Q: What are useful features for distinguishing a Saint Bernard Dog from Great Pyrenees Dog in a photo?\n",
      "    A: There are several useful visual features to tell the difference between a Saint Bernard Dog and a Great Pyrenees Dog in a photo\n",
      "    \n"
     ]
    },
    {
     "name": "stderr",
     "output_type": "stream",
     "text": [
      "\r",
      " 78%|█████████████████████████████████▋         | 29/37 [02:21<00:30,  3.80s/it]"
     ]
    },
    {
     "name": "stdout",
     "output_type": "stream",
     "text": [
      "{\n",
      "    \"Saint Bernard Dog\": [\n",
      "        \"have a larger and heavier build\",\n",
      "        \"have a broader head with a more pronounced forehead\",\n",
      "        \"have droopy jowls and a more wrinkled face\",\n",
      "        \"have shorter and thicker fur\",\n",
      "        \"have a shorter and wider muzzle\",\n",
      "        \"have a barrel-shaped body\",\n",
      "        \"have a shorter and more muscular neck\"\n",
      "    ],\n",
      "    \"Great Pyrenees Dog\": [\n",
      "        \"have a more slender and athletic build\",\n",
      "        \"have a narrower head with a flatter forehead\",\n",
      "        \"have a more alert expression\",\n",
      "        \"have longer and thicker fur\",\n",
      "        \"have a longer and narrower muzzle\",\n",
      "        \"have a more elongated body\",\n",
      "        \"have a longer and more graceful neck\"\n",
      "    ]\n",
      "}\n",
      "\n",
      "    Q: What are useful features for distinguishing a Scottish Terrier Dog from Wheaten Terrier Dog in a photo?\n",
      "    A: There are several useful visual features to tell the difference between a Scottish Terrier Dog and a Wheaten Terrier Dog in a photo\n",
      "    \n"
     ]
    },
    {
     "name": "stderr",
     "output_type": "stream",
     "text": [
      "\r",
      " 84%|████████████████████████████████████       | 31/37 [02:27<00:20,  3.41s/it]"
     ]
    },
    {
     "name": "stdout",
     "output_type": "stream",
     "text": [
      "{\n",
      "    \"Scottish Terrier Dog\": [\n",
      "        \"have a wiry and dense double coat\",\n",
      "        \"have a distinctive beard and eyebrows\",\n",
      "        \"have a more compact and muscular build\",\n",
      "        \"ears are small and erect\",\n",
      "        \"tails are short and carried upright\",\n",
      "        \"coat colors are usually black or brindle\"\n",
      "    ],\n",
      "    \"Wheaten Terrier Dog\": [\n",
      "        \"have a soft and silky single coat\",\n",
      "        \"have a more slender and graceful build\",\n",
      "        \"ears are medium-sized and folded\",\n",
      "        \"tails are long and carried straight or slightly curved\",\n",
      "        \"coat color is usually wheaten, ranging from pale beige to golden\"\n",
      "    ]\n",
      "}\n",
      "\n",
      "    Q: What are useful features for distinguishing a Shiba Inu Dog from Pomeranian Dog in a photo?\n",
      "    A: There are several useful visual features to tell the difference between a Shiba Inu Dog and a Pomeranian Dog in a photo\n",
      "    \n"
     ]
    },
    {
     "name": "stderr",
     "output_type": "stream",
     "text": [
      "\r",
      " 86%|█████████████████████████████████████▏     | 32/37 [02:33<00:19,  3.95s/it]"
     ]
    },
    {
     "name": "stdout",
     "output_type": "stream",
     "text": [
      "{\n",
      "    \"Shiba Inu Dog\": [\n",
      "        \"have a distinct fox-like face with a pointed snout\",\n",
      "        \"ears are small and triangular-shaped\",\n",
      "        \"have a thick double coat that comes in various colors including red, sesame, black, and tan\",\n",
      "        \"tails are curled and carried high over the back\",\n",
      "        \"are medium-sized dogs with a sturdy build\"\n",
      "    ],\n",
      "    \"Pomeranian Dog\": [\n",
      "        \"have a compact and fluffy appearance\",\n",
      "        \"ears are small and erect\",\n",
      "        \"have a thick double coat that comes in various colors including orange, cream, black, and sable\",\n",
      "        \"tails are plumed and carried over the back\",\n",
      "        \"are small-sized dogs with a dainty build\"\n",
      "    ]\n",
      "}\n",
      "\n",
      "    Q: What are useful features for distinguishing a Siamese Cat from Birman Cat in a photo?\n",
      "    A: There are several useful visual features to tell the difference between a Siamese Cat and a Birman Cat in a photo\n",
      "    \n"
     ]
    },
    {
     "name": "stderr",
     "output_type": "stream",
     "text": [
      "\r",
      " 89%|██████████████████████████████████████▎    | 33/37 [02:39<00:17,  4.49s/it]"
     ]
    },
    {
     "name": "stdout",
     "output_type": "stream",
     "text": [
      "{\n",
      "    \"Siamese Cat\": [\n",
      "        \"have a distinctive color pattern with a light-colored body and darker points on the ears, face, paws, and tail\",\n",
      "        \"have almond-shaped blue eyes\",\n",
      "        \"have a sleek and slender body\",\n",
      "        \"have a short coat\",\n",
      "        \"have a triangular-shaped head\",\n",
      "        \"have a vocal and talkative nature\"\n",
      "    ],\n",
      "    \"Birman Cat\": [\n",
      "        \"have a medium to large size with a sturdy build\",\n",
      "        \"have a semi-long silky coat\",\n",
      "        \"have a colorpoint pattern with darker points on the ears, face, paws, and tail\",\n",
      "        \"have round blue eyes\",\n",
      "        \"have a broad and rounded head\",\n",
      "        \"have a gentle and affectionate nature\"\n",
      "    ]\n",
      "}\n",
      "\n",
      "    Q: What are useful features for distinguishing a Sphynx Cat from Abyssinian Cat in a photo?\n",
      "    A: There are several useful visual features to tell the difference between a Sphynx Cat and a Abyssinian Cat in a photo\n",
      "    \n"
     ]
    },
    {
     "name": "stderr",
     "output_type": "stream",
     "text": [
      "\r",
      " 92%|███████████████████████████████████████▌   | 34/37 [02:45<00:14,  4.74s/it]"
     ]
    },
    {
     "name": "stdout",
     "output_type": "stream",
     "text": [
      "{\n",
      "    \"Sphynx Cat\": [\n",
      "        \"have a hairless or very short coat\",\n",
      "        \"often have wrinkled skin\",\n",
      "        \"have large ears that are wide at the base\",\n",
      "        \"have a muscular and sturdy build\",\n",
      "        \"have a round head shape\",\n",
      "        \"have prominent cheekbones\"\n",
      "    ],\n",
      "    \"Abyssinian Cat\": [\n",
      "        \"have a short and dense coat with a ticked pattern\",\n",
      "        \"have a slender and graceful build\",\n",
      "        \"have a wedge-shaped head\",\n",
      "        \"have almond-shaped eyes\",\n",
      "        \"have large ears that are pointed at the tips\",\n",
      "        \"have a bushy tail\"\n",
      "    ]\n",
      "}\n",
      "\n",
      "    Q: What are useful features for distinguishing a Staffordshire Bull Terrier Dog from American Bulldog Dog in a photo?\n",
      "    A: There are several useful visual features to tell the difference between a Staffordshire Bull Terrier Dog and a American Bulldog Dog in a photo\n",
      "    \n"
     ]
    },
    {
     "name": "stderr",
     "output_type": "stream",
     "text": [
      "\r",
      " 95%|████████████████████████████████████████▋  | 35/37 [02:52<00:10,  5.38s/it]"
     ]
    },
    {
     "name": "stdout",
     "output_type": "stream",
     "text": [
      "{\n",
      "    \"Staffordshire Bull Terrier Dog\": [\n",
      "        \"have a muscular and stocky build\",\n",
      "        \"have a broad and short head with a pronounced cheekbone\",\n",
      "        \"ears are small and rose-shaped\",\n",
      "        \"have a short and smooth coat\",\n",
      "        \"coat colors can vary, but often include brindle, black, or white\",\n",
      "        \"have a medium-sized tail that is set low\"\n",
      "    ],\n",
      "    \"American Bulldog Dog\": [\n",
      "        \"have a large and powerful build\",\n",
      "        \"have a square-shaped head with a wide muzzle\",\n",
      "        \"ears are medium-sized and can be either rose-shaped or drop-shaped\",\n",
      "        \"have a short and dense coat\",\n",
      "        \"coat colors can vary, but often include white with patches of brindle, fawn, or red\",\n",
      "        \"have a medium-sized tail that is set high\"\n",
      "    ]\n",
      "}\n",
      "\n",
      "    Q: What are useful features for distinguishing a Wheaten Terrier Dog from Havanese Dog in a photo?\n",
      "    A: There are several useful visual features to tell the difference between a Wheaten Terrier Dog and a Havanese Dog in a photo\n",
      "    \n"
     ]
    },
    {
     "name": "stderr",
     "output_type": "stream",
     "text": [
      "100%|███████████████████████████████████████████| 37/37 [03:00<00:00,  4.89s/it]"
     ]
    },
    {
     "name": "stdout",
     "output_type": "stream",
     "text": [
      "{\n",
      "    \"Wheaten Terrier Dog\": [\n",
      "        \"have a medium-sized body with a square-shaped build\",\n",
      "        \"have a soft, wavy coat that is typically a pale wheaten color\",\n",
      "        \"often have a longer muzzle and a more pronounced stop\",\n",
      "        \"ears are medium-sized and set high on the head\",\n",
      "        \"tails are usually docked to a medium length\",\n",
      "        \"are known for their friendly and outgoing personality\"\n",
      "    ],\n",
      "    \"Havanese Dog\": [\n",
      "        \"have a small-sized body with a longer, rectangular-shaped build\",\n",
      "        \"have a long, silky coat that can come in a variety of colors\",\n",
      "        \"often have a shorter muzzle and a more rounded head\",\n",
      "        \"ears are large and drop down to the sides of the head\",\n",
      "        \"tails are usually carried over the back in a plume\",\n",
      "        \"are known for their affectionate and playful nature\"\n",
      "    ]\n",
      "}\n"
     ]
    },
    {
     "name": "stderr",
     "output_type": "stream",
     "text": [
      "\n"
     ]
    }
   ],
   "source": [
    "already_seen = set()\n",
    "total_pairs = 0\n",
    "\n",
    "for class_ in tqdm(top5.keys()):\n",
    "    number_of_pairs = 0\n",
    "    for top_class, count in top5[class_][0:2]:\n",
    "        if class_ == top_class or (class_, top_class) in already_seen or number_of_pairs >=5:\n",
    "            continue\n",
    "        response = generate_attributes(class_, top_class)\n",
    "        try:\n",
    "            json_response = process_response(response)\n",
    "        except:\n",
    "            print(\"Could not process the input, continue...\")\n",
    "            continue\n",
    "        for key in json_response.keys():\n",
    "            if key in descriptor_dict:\n",
    "                descriptor_dict[key] |= set(json_response[key])\n",
    "            else:\n",
    "                descriptor_dict[key] = set(json_response[key])\n",
    "        already_seen.add((class_, top_class))\n",
    "        already_seen.add((top_class, class_))\n",
    "        number_of_pairs += 1\n",
    "        total_pairs += 1\n",
    "        \n",
    "        descriptor_json = convert_to_json(descriptor_dict)\n",
    "                \n",
    "        with open(f'descriptors.txt', 'w') as file:\n",
    "            file.write(descriptor_json)\n",
    "    "
   ]
  },
  {
   "cell_type": "code",
   "execution_count": 38,
   "id": "313327a9",
   "metadata": {
    "scrolled": true
   },
   "outputs": [
    {
     "data": {
      "text/plain": [
       "37"
      ]
     },
     "execution_count": 38,
     "metadata": {},
     "output_type": "execute_result"
    }
   ],
   "source": [
    "len(descriptor_dict.keys())"
   ]
  },
  {
   "cell_type": "code",
   "execution_count": 21,
   "id": "056d8c68",
   "metadata": {},
   "outputs": [],
   "source": [
    "def load_json(filename):\n",
    "    if not filename.endswith('.txt'):\n",
    "        filename += '.txt'\n",
    "    with open(filename, 'r') as fp:\n",
    "        return json.load(fp)\n",
    "    "
   ]
  },
  {
   "cell_type": "code",
   "execution_count": 22,
   "id": "a16fc187",
   "metadata": {},
   "outputs": [],
   "source": [
    "gpt_descriptions = load_json('descriptors.txt')"
   ]
  },
  {
   "cell_type": "code",
   "execution_count": 47,
   "id": "11d408a6",
   "metadata": {},
   "outputs": [],
   "source": [
    "def compute_description_encodings(model, gpt_descriptions):\n",
    "    description_encodings = []\n",
    "    for k, v in gpt_descriptions.items():\n",
    "        print(list(map(lambda x: f\"{k} {x}\", v)))\n",
    "        print(\"--\"*20)\n",
    "        tokens = clip.tokenize(list(map(lambda x: f\"{k} {x}\", v))).to(device)\n",
    "        description_encodings.append(F.normalize(model.encode_text(tokens).sum(dim=0, keepdim=True)))\n",
    "        print(description_encodings[-1].size())\n",
    "    return torch.stack(description_encodings, dim = 1).squeeze()"
   ]
  },
  {
   "cell_type": "code",
   "execution_count": 48,
   "id": "925f150b",
   "metadata": {},
   "outputs": [],
   "source": [
    "def aggregate_similarity(similarity_matrix_chunk, aggregation_method='mean'):\n",
    "    if aggregation_method == 'max': return similarity_matrix_chunk.max(dim=1)[0]\n",
    "    elif aggregation_method == 'sum': return similarity_matrix_chunk.sum(dim=1)\n",
    "    elif aggregation_method == 'mean': return similarity_matrix_chunk.mean(dim=1)\n",
    "    else: raise ValueError(\"Unknown aggregate_similarity\")"
   ]
  },
  {
   "cell_type": "code",
   "execution_count": 50,
   "id": "3e3e1c0a",
   "metadata": {},
   "outputs": [],
   "source": [
    "def calc_acc_complete(model, dataset, descriptions, batch_size = 10, count_classes = False, \n",
    "             topK = 5):\n",
    "    \n",
    "    count_classes_dict = initialize_counter_dict(dataset.classes)\n",
    "    index_to_class_dict = idx_to_label(dataset.class_to_idx)\n",
    "    \n",
    "    \n",
    "    description_encodings = compute_description_encodings(model, gpt_descriptions)\n",
    "    print(description_encodings.size())\n",
    "    label_encodings = compute_encodings(model, dataset.classes)\n",
    "    \n",
    "    \n",
    "    clip_accuracy_metric = torchmetrics.Accuracy(task=\"multiclass\", num_classes=len(dataset.classes)).to(device)\n",
    "    clip_accuracy_metric_top5 = torchmetrics.Accuracy(top_k=5, task=\"multiclass\", num_classes=len(dataset.classes)).to(device)\n",
    "    \n",
    "    \n",
    "    lang_accuracy_metric = torchmetrics.Accuracy(task=\"multiclass\", num_classes=len(dataset.classes)).to(device)\n",
    "    lang_accuracy_metric_top5 = torchmetrics.Accuracy(top_k=5, task=\"multiclass\", num_classes=len(dataset.classes)).to(device)\n",
    "\n",
    "    \n",
    "    \n",
    "    dataloader = DataLoader(dataset, batch_size, shuffle=True, num_workers=16, pin_memory=True)\n",
    "    for batch_number, batch in enumerate(tqdm(dataloader)):\n",
    "        images, labels = batch\n",
    "\n",
    "        images = images.to(device)\n",
    "        labels = labels.to(device)\n",
    "\n",
    "        image_encodings = model.encode_image(images)\n",
    "        image_encodings = F.normalize(image_encodings)\n",
    "\n",
    "        image_labels_similarity = image_encodings @ label_encodings.T\n",
    "\n",
    "\n",
    "        clip_acc = clip_accuracy_metric(image_labels_similarity, labels)\n",
    "        clip_acc_top5 = clip_accuracy_metric_top5(image_labels_similarity, labels)\n",
    "        \n",
    "        dot_product_matrix = image_encodings @ description_encodings.T\n",
    "        \n",
    "        lang_acc = lang_accuracy_metric(dot_product_matrix, labels)\n",
    "        lang_acc_top5 = lang_accuracy_metric_top5(dot_product_matrix, labels)\n",
    "\n",
    "\n",
    "\n",
    "    print(\"\\n\")\n",
    "\n",
    "    accuracy_logs = {}\n",
    "    accuracy_logs[\"Total Description-based Top-1 Accuracy: \"] = 100*lang_accuracy_metric.compute().item()\n",
    "    accuracy_logs[\"Total Description-based Top-5 Accuracy: \"] = 100*lang_accuracy_metric_top5.compute().item()\n",
    "\n",
    "    accuracy_logs[\"Total CLIP-Standard Top-1 Accuracy: \"] = 100*clip_accuracy_metric.compute().item()\n",
    "    accuracy_logs[\"Total CLIP-Standard Top-5 Accuracy: \"] = 100*clip_accuracy_metric_top5.compute().item()\n",
    "\n",
    "    # print the dictionary\n",
    "    print(\"\\n\")\n",
    "    for key, value in accuracy_logs.items():\n",
    "        print(key, value)\n",
    "    \n",
    "    return accuracy_logs"
   ]
  },
  {
   "cell_type": "code",
   "execution_count": 51,
   "id": "f34b51d5",
   "metadata": {},
   "outputs": [
    {
     "name": "stdout",
     "output_type": "stream",
     "text": [
      "['Abyssinian Cat have a long and slender tail', 'Abyssinian Cat have almond-shaped eyes that are usually green or gold', 'Abyssinian Cat have a short, dense coat that is soft to the touch', 'Abyssinian Cat have a wedge-shaped head with large ears that are set wide apart', 'Abyssinian Cat are known for their playful and active nature', 'Abyssinian Cat typically have a ticked coat pattern, with each hair having multiple bands of color', 'Abyssinian Cat have a more triangular face with a slightly rounded forehead', 'Abyssinian Cat have almond-shaped eyes that are usually green or gold in color', 'Abyssinian Cat tails are medium-length and have a characteristic dark tip', 'Abyssinian Cat have large, almond-shaped eyes', 'Abyssinian Cat have a wedge-shaped head with large ears', 'Abyssinian Cat have a more slender and graceful build', 'Abyssinian Cat usually have a warm, reddish-brown coat color', 'Abyssinian Cat have a short, ticked coat with a warm reddish-brown color', 'Abyssinian Cat have a graceful and agile appearance', 'Abyssinian Cat have a slender tail', 'Abyssinian Cat have a sleek and slender build', 'Abyssinian Cat have a ticked coat pattern, with each hair having multiple bands of color', 'Abyssinian Cat ears are large and often have a more pointed shape', 'Abyssinian Cat coat colors are usually warm shades of brown or red', 'Abyssinian Cat have a slender and athletic build', 'Abyssinian Cat have a medium-sized body with a muscular build', 'Abyssinian Cat have a short, ticked coat with a reddish-brown color', 'Abyssinian Cat have a short tail that tapers to a point', 'Abyssinian Cat have large ears that are set wide apart', 'Abyssinian Cat have short, ticked fur']\n",
      "----------------------------------------\n",
      "torch.Size([1, 512])\n",
      "['Siamese Cat have almond-shaped, blue eyes', 'Siamese Cat have a triangular-shaped face with a straight profile', 'Siamese Cat have a slender and elegant body', 'Siamese Cat have a long and slender tail', 'Siamese Cat have a more vocal and talkative nature', 'Siamese Cat have a short and sleek coat', 'Siamese Cat have almond-shaped and blue eyes', 'Siamese Cat have a short, fine coat that is usually light-colored with darker points on the ears, face, paws, and tail', 'Siamese Cat have a short, fine coat that is usually cream or fawn with darker points on the ears, face, paws, and tail', 'Siamese Cat have a triangular face shape', 'Siamese Cat have a light-colored body with darker points on the ears, face, paws, and tail', 'Siamese Cat have a color-point pattern with a lighter body and darker extremities', 'Siamese Cat have a graceful and agile appearance', 'Siamese Cat have a short, sleek coat with a color point pattern', 'Siamese Cat have a vocal and talkative nature', 'Siamese Cat have a triangular-shaped head with a long, straight nose', 'Siamese Cat have a slender and elegant build', 'Siamese Cat have a long, thin tail', 'Siamese Cat have a pointed coat pattern with darker color on the ears, face, paws, and tail', 'Siamese Cat have large ears that are set wide apart', 'Siamese Cat have a slim and elegant build', 'Siamese Cat have large, pointed ears that are set close together', 'Siamese Cat have a triangular-shaped head with large ears that are set close together', \"Siamese Cat have a color pattern known as 'pointed'\", \"Siamese Cat have a distinctive color pattern called 'point coloration'\", 'Siamese Cat have a short coat that is usually light-colored with darker points on the ears, face, paws, and tail', 'Siamese Cat have a short, sleek coat', 'Siamese Cat are known for their vocal and social nature', 'Siamese Cat have a triangular face with a long and straight nose', 'Siamese Cat have a triangular-shaped face with a long, straight nose', 'Siamese Cat have a vocal and outgoing personality', 'Siamese Cat are known for their distinctive colorpoint pattern', 'Siamese Cat have a more angular face with a straight profile', 'Siamese Cat have a slender and graceful body shape', 'Siamese Cat have a short and fine coat', 'Siamese Cat have a triangular-shaped head with a straight profile', 'Siamese Cat are typically a light-colored body with darker points on the ears, face, paws, and tail', 'Siamese Cat have almond-shaped blue eyes', 'Siamese Cat have almond-shaped, blue-colored eyes', 'Siamese Cat have a more vocal and active personality', 'Siamese Cat have striking blue almond-shaped eyes', 'Siamese Cat have striking blue eyes', 'Siamese Cat have a slender and elegant body shape', 'Siamese Cat have a short, fine coat that is cream or fawn in color with darker points on the ears, face, paws, and tail', 'Siamese Cat have a pointed color pattern', 'Siamese Cat have a triangular-shaped face with large ears', 'Siamese Cat have a slender and athletic build', 'Siamese Cat have a sleek and slender body', 'Siamese Cat have a short and fine fur texture']\n",
      "----------------------------------------\n",
      "torch.Size([1, 512])\n",
      "['British Shorthair Cat tails are medium-length and have a rounded tip', 'British Shorthair Cat have a medium-length and thick tail', 'British Shorthair Cat have medium-sized and rounded ears', 'British Shorthair Cat come in a variety of colors and patterns', 'British Shorthair Cat have round and large eyes', 'British Shorthair Cat have a broad and short nose', 'British Shorthair Cat have small and rounded ears', 'British Shorthair Cat have a dense and plush coat', 'British Shorthair Cat have a stocky and robust appearance', 'British Shorthair Cat have a round face with full cheeks', 'British Shorthair Cat have small ears that are set close together', 'British Shorthair Cat ears are small and have a rounded shape', 'British Shorthair Cat have a sturdy and large body', 'British Shorthair Cat eyes are large and round', 'British Shorthair Cat often have a wide and sturdy body', 'British Shorthair Cat have a stocky and muscular build', 'British Shorthair Cat have a round face with prominent cheeks', 'British Shorthair Cat have a sturdy and muscular build', 'British Shorthair Cat tails are medium-length and thick', 'British Shorthair Cat ears are medium-sized and rounded at the tips', 'British Shorthair Cat have a short and dense coat', 'British Shorthair Cat have a more rounded and stocky build', 'British Shorthair Cat have a wide and short nose', 'British Shorthair Cat have a round face with chubby cheeks', 'British Shorthair Cat have a short and broad nose', 'British Shorthair Cat have round and large eyes in various colors', 'British Shorthair Cat have round, large eyes that are usually copper or gold', 'British Shorthair Cat have a dense and plush coat in various colors', 'British Shorthair Cat have a variety of coat colors and patterns', 'British Shorthair Cat are known for their calm and laid-back temperament', 'British Shorthair Cat have a dense and plush coat with a wide range of colors', 'British Shorthair Cat typically have a dense and plush coat in various solid colors']\n",
      "----------------------------------------\n",
      "torch.Size([1, 512])\n",
      "['Egyptian Mau Cat have a short, silky coat that is dense and shiny', 'Egyptian Mau Cat often have a coat that shimmers in the light', 'Egyptian Mau Cat have a medium-length tail', 'Egyptian Mau Cat have a spotted coat with a distinct pattern', 'Egyptian Mau Cat have a medium-sized and athletic build', 'Egyptian Mau Cat tails are long and slender', 'Egyptian Mau Cat have a slender and graceful build', 'Egyptian Mau Cat have a spotted coat pattern, with spots ranging from small to large', 'Egyptian Mau Cat have a spotted coat', 'Egyptian Mau Cat have a wedge-shaped head', 'Egyptian Mau Cat have a slender and athletic body', 'Egyptian Mau Cat have large, almond-shaped eyes that are usually green', 'Egyptian Mau Cat eyes are almond-shaped and can be green or gold', 'Egyptian Mau Cat have a more elegant and regal appearance', 'Egyptian Mau Cat often have a more triangular-shaped face', 'Egyptian Mau Cat have a rounded head with medium-sized ears that are set wide apart', 'Egyptian Mau Cat have a rounded head with medium-sized ears that are slightly tilted forward', 'Egyptian Mau Cat have a sleek and muscular body', 'Egyptian Mau Cat are known for their agility and speed', 'Egyptian Mau Cat have a playful and active personality', 'Egyptian Mau Cat have a medium-length tail with a dark tip', \"Egyptian Mau Cat have a distinctive 'M' marking on their forehead\", 'Egyptian Mau Cat have large, expressive eyes that are usually green or amber', 'Egyptian Mau Cat have a short coat with a spotted or marbled pattern', 'Egyptian Mau Cat have a short and dense fur', 'Egyptian Mau Cat have a short, silky coat that comes in various colors, including silver, bronze, and smoke', 'Egyptian Mau Cat have a triangular-shaped face', 'Egyptian Mau Cat have large, almond-shaped eyes that are usually green in color', 'Egyptian Mau Cat often have green eyes', 'Egyptian Mau Cat have a medium-sized body with a sleek and athletic build', 'Egyptian Mau Cat ears are large and pointed', 'Egyptian Mau Cat spots are usually black or dark brown', 'Egyptian Mau Cat have a slender and athletic build', 'Egyptian Mau Cat have an active and playful personality', 'Egyptian Mau Cat have a graceful and elegant appearance', 'Egyptian Mau Cat have a spotted coat with a silver or bronze background', 'Egyptian Mau Cat have almond-shaped green eyes']\n",
      "----------------------------------------\n"
     ]
    },
    {
     "name": "stdout",
     "output_type": "stream",
     "text": [
      "torch.Size([1, 512])\n",
      "['Sphynx Cat have a medium to large size with a slender body', 'Sphynx Cat have large, lemon-shaped eyes that can be any color', 'Sphynx Cat have large ears that are wide at the base and taper to a point', 'Sphynx Cat have a rounded head with prominent cheekbones', 'Sphynx Cat have a long and slender tail', 'Sphynx Cat have a muscular and sturdy build', 'Sphynx Cat have a distinctive facial expression', 'Sphynx Cat have a long, slender tail', 'Sphynx Cat often have large ears', 'Sphynx Cat have a round face with prominent cheekbones', 'Sphynx Cat have a hairless or nearly hairless coat', 'Sphynx Cat have a hairless coat', 'Sphynx Cat have a sturdy and solid appearance', 'Sphynx Cat have a hairless or very short coat', 'Sphynx Cat have a distinctive facial expression with prominent cheekbones', 'Sphynx Cat have a long and whip-like tail', 'Sphynx Cat have a wedge-shaped head with prominent cheekbones', 'Sphynx Cat have large ears', 'Sphynx Cat have wrinkled skin', 'Sphynx Cat have a slender and muscular build', 'Sphynx Cat have a muscular build']\n",
      "----------------------------------------\n",
      "torch.Size([1, 512])\n",
      "['American Bulldog Dog have a short muzzle', 'American Bulldog Dog have a wide and powerful jaw', 'American Bulldog Dog have a short tail that is usually straight or slightly curved', 'American Bulldog Dog have a muscular build with a strong and sturdy appearance', 'American Bulldog Dog have a large and muscular build', 'American Bulldog Dog have a short coat that can come in various colors', 'American Bulldog Dog ears are usually medium-sized and can be either rose-shaped or drop-shaped', 'American Bulldog Dog have a wide and deep chest', 'American Bulldog Dog have a large and muscular body with a strong build', 'American Bulldog Dog have a short coat that is usually white with patches of brindle, brown, or black', 'American Bulldog Dog have a short and smooth coat', 'American Bulldog Dog often have a wrinkled face', 'American Bulldog Dog have short, dense coats that come in various colors, including white, brindle, and fawn', 'American Bulldog Dog have a medium-sized, floppy ears that hang down', 'American Bulldog Dog have a square-shaped head with a pronounced jawline', 'American Bulldog Dog have a strong and confident expression', 'American Bulldog Dog have a large, muscular build', 'American Bulldog Dog have a square-shaped head with a broad muzzle', 'American Bulldog Dog have a short and dense coat', 'American Bulldog Dog have a broad and square-shaped head', 'American Bulldog Dog have a short coat that can come in a variety of colors, including white, brindle, or a combination of both', 'American Bulldog Dog have a broad and square-shaped head with a pronounced jawline', 'American Bulldog Dog tails are usually straight and medium in length', 'American Bulldog Dog have short, floppy ears that fold over', 'American Bulldog Dog have a straight tail', 'American Bulldog Dog have a thick and strong neck', 'American Bulldog Dog have a thick and sturdy tail']\n",
      "----------------------------------------\n",
      "torch.Size([1, 512])\n",
      "['American Pit Bull Terrier Dog have a medium-sized tail that is set low and tapers to a point', 'American Pit Bull Terrier Dog have a short coat that can come in a variety of colors', 'American Pit Bull Terrier Dog ears are usually cropped or left natural and can be medium to large in size', 'American Pit Bull Terrier Dog have a muscular build with a broad chest and strong shoulders', 'American Pit Bull Terrier Dog have a short, smooth coat that can come in a variety of colors', 'American Pit Bull Terrier Dog have a narrower and less powerful jaw', 'American Pit Bull Terrier Dog tails are usually docked or can be left natural', 'American Pit Bull Terrier Dog have a muscular build and a broad head', 'American Pit Bull Terrier Dog have a square-shaped head with a strong jaw', 'American Pit Bull Terrier Dog have a more streamlined and athletic appearance', 'American Pit Bull Terrier Dog have a more muscular and stocky build', 'American Pit Bull Terrier Dog are known for their athletic and agile appearance', 'American Pit Bull Terrier Dog have a square-shaped head with a strong jawline', 'American Pit Bull Terrier Dog are generally larger in size', 'American Pit Bull Terrier Dog ears are usually cropped or can be left natural', 'American Pit Bull Terrier Dog have a longer muzzle', 'American Pit Bull Terrier Dog ears are typically cropped or can be left natural and are set high on the head', 'American Pit Bull Terrier Dog have a shorter muzzle and a wider nose', 'American Pit Bull Terrier Dog have a medium-sized, muscular build', 'American Pit Bull Terrier Dog have a more wedge-shaped head', 'American Pit Bull Terrier Dog often have a short coat that can come in a variety of colors', 'American Pit Bull Terrier Dog have a short coat that can come in a variety of colors, including brindle, fawn, and blue', 'American Pit Bull Terrier Dog ears are typically cropped or can be left natural', 'American Pit Bull Terrier Dog often have a square-shaped face with a strong jaw', 'American Pit Bull Terrier Dog tails are medium in length and may be docked', 'American Pit Bull Terrier Dog tails are usually left natural and are medium in length', 'American Pit Bull Terrier Dog have a medium-length coat that can come in various colors', 'American Pit Bull Terrier Dog are known for their strength and agility and are often seen participating in dog sports']\n",
      "----------------------------------------\n",
      "torch.Size([1, 512])\n",
      "['Boxer Dog have a distinctive square-shaped head', 'Boxer Dog have a medium-sized and athletic build', 'Boxer Dog have a short, smooth coat that can be fawn or brindle in color', 'Boxer Dog have a strong and muscular jaw', 'Boxer Dog have a confident and intelligent expression', 'Boxer Dog have a muscular and athletic build', 'Boxer Dog have a medium to large size and a muscular build', 'Boxer Dog have a medium to large size with a strong and muscular build', 'Boxer Dog have a deep and broad chest', 'Boxer Dog have a docked tail or a natural long tail', 'Boxer Dog have a square-shaped head with a strong jaw', 'Boxer Dog have a short and smooth coat', 'Boxer Dog have a docked tail that is set high', 'Boxer Dog have a deep chest and a muscular body', 'Boxer Dog are medium-sized dogs with a muscular build', 'Boxer Dog have a square-shaped head with a strong jawline', 'Boxer Dog have a short coat that is smooth and shiny', 'Boxer Dog have a broad chest and a deep ribcage', 'Boxer Dog have a short and shiny coat', 'Boxer Dog tails are usually docked and held high', 'Boxer Dog have a distinctive wrinkled forehead', 'Boxer Dog have a well-defined and muscular neck', 'Boxer Dog ears are set high on the head and can be cropped or left natural', 'Boxer Dog have a dark and expressive eyes', 'Boxer Dog have a medium-sized tail that is set high and can be docked or left natural', 'Boxer Dog have a short muzzle and a black nose', 'Boxer Dog have a short coat that can come in various colors, including fawn, brindle, and white']\n",
      "----------------------------------------\n",
      "torch.Size([1, 512])\n",
      "['Staffordshire Bull Terrier Dog have a medium-sized and muscular body', 'Staffordshire Bull Terrier Dog have a stocky and muscular build with a broad chest', 'Staffordshire Bull Terrier Dog have a round-shaped head with a wide skull', 'Staffordshire Bull Terrier Dog have a short coat that is dense and stiff', 'Staffordshire Bull Terrier Dog have a wide and deep chest', 'Staffordshire Bull Terrier Dog have rose or half-pricked ears', 'Staffordshire Bull Terrier Dog have dark, round, and expressive eyes', 'Staffordshire Bull Terrier Dog have a broad and powerful head with a well-defined stop', 'Staffordshire Bull Terrier Dog have a natural tail that is medium in length', 'Staffordshire Bull Terrier Dog have a short and smooth coat', 'Staffordshire Bull Terrier Dog have a short and strong muzzle', 'Staffordshire Bull Terrier Dog have a stocky and muscular build', 'Staffordshire Bull Terrier Dog have a strong and muscular neck', 'Staffordshire Bull Terrier Dog have a deep chest and a strong neck', 'Staffordshire Bull Terrier Dog often have a smooth and muscular body', 'Staffordshire Bull Terrier Dog ears are usually medium-sized and can be either rose-shaped or half-pricked', 'Staffordshire Bull Terrier Dog often have a short coat that can come in a variety of colors', 'Staffordshire Bull Terrier Dog have a smaller and more compact build', 'Staffordshire Bull Terrier Dog tails are usually medium in length and can be either straight or slightly curved', 'Staffordshire Bull Terrier Dog are known for their friendly and affectionate expression', 'Staffordshire Bull Terrier Dog have a short muzzle and a black nose', 'Staffordshire Bull Terrier Dog tails are usually natural and are medium in length', 'Staffordshire Bull Terrier Dog have a round-shaped head with a strong jaw', 'Staffordshire Bull Terrier Dog have a more rounded head shape', 'Staffordshire Bull Terrier Dog ears are usually natural and can be rose-shaped or half-pricked', 'Staffordshire Bull Terrier Dog have a short coat that can come in a variety of colors, including brindle, black, or a combination of both']\n",
      "----------------------------------------\n"
     ]
    },
    {
     "name": "stdout",
     "output_type": "stream",
     "text": [
      "torch.Size([1, 512])\n",
      "['Saint Bernard Dog have a strong and muscular body', 'Saint Bernard Dog have a calm and gentle expression', 'Saint Bernard Dog have a large and powerful build', 'Saint Bernard Dog have a distinctive white and red or white and mahogany coat color', 'Saint Bernard Dog have shorter and more rounded ears', 'Saint Bernard Dog have a large, floppy ears that hang down', 'Saint Bernard Dog have a long tail that is usually carried low', 'Saint Bernard Dog have a thick, dense coat that is usually red and white or mahogany and white', 'Saint Bernard Dog have a broad head with a gentle expression', 'Saint Bernard Dog have a broader head with a more pronounced forehead', 'Saint Bernard Dog are generally larger and heavier', 'Saint Bernard Dog have a shorter tail that hangs down', 'Saint Bernard Dog ears are set high on the head and hang down', 'Saint Bernard Dog have a white coat with patches of brown, red, or brindle', 'Saint Bernard Dog tails are long and usually held low', 'Saint Bernard Dog have a larger and heavier build', 'Saint Bernard Dog have a large and powerful build with a heavy and strong appearance', 'Saint Bernard Dog have a thick, dense coat that is usually long and wavy', 'Saint Bernard Dog have droopy jowls and a more wrinkled face', 'Saint Bernard Dog have a broad and dome-shaped head with a deep-set eyes', 'Saint Bernard Dog have a friendly and calm demeanor', 'Saint Bernard Dog have a variety of coat colors including red and white, or mahogany and white', 'Saint Bernard Dog have a thick double coat with a rougher texture', 'Saint Bernard Dog have large, broad heads with a gentle expression', 'Saint Bernard Dog have a shorter and thicker coat', 'Saint Bernard Dog have shorter and thicker fur', 'Saint Bernard Dog have a distinctive barrel-shaped body', 'Saint Bernard Dog ears are medium-sized and set slightly lower on the head', 'Saint Bernard Dog typically have a combination of white with patches of red, brindle, or black markings', 'Saint Bernard Dog have a long and thick coat that is usually white with patches of red, mahogany, or brindle', 'Saint Bernard Dog have a deep chest and a strong, sturdy frame', 'Saint Bernard Dog have a thick, dense coat', 'Saint Bernard Dog are large dogs with a powerful build', 'Saint Bernard Dog have a shorter and wider snout', 'Saint Bernard Dog have long, droopy ears', 'Saint Bernard Dog have a massive, muscular build']\n",
      "----------------------------------------\n",
      "torch.Size([1, 512])\n",
      "['Miniature Pinscher Dog tails are usually docked to a short length', 'Miniature Pinscher Dog have a small and compact build', 'Miniature Pinscher Dog have a short coat that is usually solid red or black and tan', 'Miniature Pinscher Dog have a short, smooth coat', 'Miniature Pinscher Dog are generally smaller in size', 'Miniature Pinscher Dog have a narrow and elongated head with a well-defined stop', 'Miniature Pinscher Dog have a more slender and athletic build', 'Miniature Pinscher Dog have a short, smooth coat that is usually solid black, red, or chocolate', 'Miniature Pinscher Dog have a short and smooth coat', 'Miniature Pinscher Dog have a high-set tail that is usually docked', 'Miniature Pinscher Dog have a small to medium size, typically weighing between 8-12 pounds', 'Miniature Pinscher Dog tails are usually docked', 'Miniature Pinscher Dog have a distinctive high-set tail that is usually docked', 'Miniature Pinscher Dog have erect and high-set ears', 'Miniature Pinscher Dog ears are usually erect and pointed', 'Miniature Pinscher Dog have a small and compact body', 'Miniature Pinscher Dog have a more compact and muscular build', 'Miniature Pinscher Dog have small, dark, and almond-shaped eyes', 'Miniature Pinscher Dog have a more elongated head with almond-shaped eyes', 'Miniature Pinscher Dog often have a more narrow and elongated head', 'Miniature Pinscher Dog have a prominent chest and muscular build', 'Miniature Pinscher Dog coat colors can vary, but commonly seen in black and tan', 'Miniature Pinscher Dog ears are usually erect and set high on the head', 'Miniature Pinscher Dog have erect ears that are usually medium in size', 'Miniature Pinscher Dog have a sleek and elegant appearance']\n",
      "----------------------------------------\n",
      "torch.Size([1, 512])\n",
      "['Basset Hound Dog have a distinctive hound dog expression', 'Basset Hound Dog have a short, stocky body with short legs', 'Basset Hound Dog have long, droopy ears that hang down past their jawline', 'Basset Hound Dog have a wrinkled face with loose skin and a sad expression', 'Basset Hound Dog have a long, low-set tail that is carried in a slight curve', 'Basset Hound Dog are typically tricolored with a combination of white, black, and brown markings', 'Basset Hound Dog have a short, smooth coat', 'Basset Hound Dog have a smooth coat that is usually tricolor (black, white, and brown)', 'Basset Hound Dog have a short and stocky build with a heavy bone structure', 'Basset Hound Dog have a wrinkled face and loose skin', 'Basset Hound Dog have a short, stocky build with a deep chest', 'Basset Hound Dog are generally larger and heavier', 'Basset Hound Dog have a deep, mournful expression', 'Basset Hound Dog have long, droopy ears that hang down', 'Basset Hound Dog have a short, smooth coat that can come in various colors such as tri-color or lemon and white', 'Basset Hound Dog have a smooth, short coat', 'Basset Hound Dog have a wrinkled face with loose skin', 'Basset Hound Dog have a long, low-set tail', 'Basset Hound Dog have a long body with short legs', 'Basset Hound Dog have a short, stocky build with a low-to-the-ground appearance', 'Basset Hound Dog have a long body and short legs']\n",
      "----------------------------------------\n",
      "torch.Size([1, 512])\n",
      "['Beagle Dog have a short, dense coat that comes in a variety of colors, including tricolor (black, white, and tan) and lemon (white and tan)', 'Beagle Dog have a compact body with medium-length legs', 'Beagle Dog have shorter, more upright ears', 'Beagle Dog have a short, smooth coat', 'Beagle Dog have a more alert and curious expression', 'Beagle Dog have a small to medium-sized body with a compact build', 'Beagle Dog have short, smooth coats that come in a variety of colors, including tricolor (black, white, and brown)', 'Beagle Dog typically have a tricolor pattern with a combination of black, white, and brown markings', 'Beagle Dog have a distinct white tip on their tail', 'Beagle Dog are generally smaller and lighter', 'Beagle Dog have long, droopy ears that hang down', 'Beagle Dog have short legs and a compact body', 'Beagle Dog have a compact and muscular build', 'Beagle Dog have a rounded head with a slightly domed skull', 'Beagle Dog have a short, dense coat', 'Beagle Dog have a friendly and alert expression', 'Beagle Dog have a straight tail that is carried at a slight upward curve', 'Beagle Dog have a small to medium-sized build', 'Beagle Dog have long, droopy ears', 'Beagle Dog have a short, smooth coat that is usually tricolor (black, white, and brown)', 'Beagle Dog are generally small to medium-sized dogs with a muscular build']\n",
      "----------------------------------------\n",
      "torch.Size([1, 512])\n",
      "['German Shorthaired Dog have a more athletic and lean build', 'German Shorthaired Dog have a longer muzzle and a more pointed face', 'German Shorthaired Dog tails are usually docked to a medium length', 'German Shorthaired Dog have a long, tapered tail that is usually held straight or slightly curved', 'German Shorthaired Dog ears are shorter and stand upright', 'German Shorthaired Dog have a more slender and athletic build', 'German Shorthaired Dog are known for their hunting abilities and are often seen with a bird in their mouth', 'German Shorthaired Dog have a more pointed head with a longer muzzle', 'German Shorthaired Dog have a more energetic and alert expression', 'German Shorthaired Dog tails are shorter and straight', 'German Shorthaired Dog have a more energetic and active demeanor', 'German Shorthaired Dog have a shorter and smoother coat', 'German Shorthaired Dog ears are medium-sized and set high on the head', 'German Shorthaired Dog have a more muscular and athletic build', 'German Shorthaired Dog have a longer muzzle and a more pointed nose', 'German Shorthaired Dog have short, floppy ears that hang down', 'German Shorthaired Dog have a more alert expression with medium-sized, dark eyes', 'German Shorthaired Dog are typically smaller in size', 'German Shorthaired Dog have a short, dense coat that is usually liver or liver and white in color', 'German Shorthaired Dog have short, dense coats that are usually liver or liver and white in color', 'German Shorthaired Dog often have a solid or patched coat pattern', 'German Shorthaired Dog have a shorter tail that is usually held high', 'German Shorthaired Dog have a sleek and muscular body']\n",
      "----------------------------------------\n"
     ]
    },
    {
     "name": "stdout",
     "output_type": "stream",
     "text": [
      "torch.Size([1, 512])\n",
      "['English Setter Dog come in a variety of colors including white with black, orange, or liver markings', 'English Setter Dog have a medium to long coat that is usually white with patches of color', 'English Setter Dog have a deep chest and a long, feathered tail', 'English Setter Dog have large, expressive eyes that are usually dark in color', 'English Setter Dog ears are long and hang down', 'English Setter Dog have a longer and more flowing coat', 'English Setter Dog tails are long and feathered', 'English Setter Dog have a long, feathered tail that is carried high when in motion', 'English Setter Dog have a medium-sized, athletic build', 'English Setter Dog have a long, elegant face with a pointed snout', 'English Setter Dog have a medium-length coat that is usually white with patches of color', 'English Setter Dog have a well-defined stop between the forehead and the muzzle', 'English Setter Dog have a long, feathered tail that is usually held low', 'English Setter Dog have a long, narrow head with a slightly domed skull', 'English Setter Dog often have a speckled or mottled coat pattern', 'English Setter Dog have a medium-length, silky coat', 'English Setter Dog have a long and silky coat that is usually white with patches of color', 'English Setter Dog have a long and narrow head with a pronounced stop', 'English Setter Dog are known for their elegant and graceful appearance', 'English Setter Dog have a larger build with a lean and athletic body', 'English Setter Dog have a long, elegant head with a defined stop', 'English Setter Dog are known for their gentle and friendly expression', 'English Setter Dog often have feathering on their ears, chest, and tail', 'English Setter Dog have a medium-length body and long legs', 'English Setter Dog have a more slender and elegant build', 'English Setter Dog have a medium to large size with a lean and athletic build', 'English Setter Dog have long, feathered ears that hang down', 'English Setter Dog are medium-sized dogs with a slender and athletic build', 'English Setter Dog are typically larger in size']\n",
      "----------------------------------------\n",
      "torch.Size([1, 512])\n",
      "['Bengal Cat have a distinctive spotted or marbled coat pattern', 'Bengal Cat have a muscular and athletic build', 'Bengal Cat ears are medium-sized and have a rounded tip', 'Bengal Cat often have a more muscular and athletic build', 'Bengal Cat coat colors can range from brown to silver', 'Bengal Cat have a more wild and exotic appearance', 'Bengal Cat have a more triangular-shaped face', 'Bengal Cat ears are medium-sized and have a slightly pointed shape', 'Bengal Cat are known for their energetic and active behavior', 'Bengal Cat are known for their energetic and playful nature', 'Bengal Cat often have a sleek and shiny coat', 'Bengal Cat tails are long and have a characteristic thick and tapering shape', 'Bengal Cat have a more rounded face with prominent cheekbones', 'Bengal Cat often have a sleek and muscular build', 'Bengal Cat have distinctive spotted or marbled coats', 'Bengal Cat tails are long and have a thick base, tapering to a point', 'Bengal Cat ears are usually smaller and rounded', 'Bengal Cat tails are medium-length and have a thick base', 'Bengal Cat have a more elongated face with high cheekbones', 'Bengal Cat coats are usually brown or gold with black spots or marbling']\n",
      "----------------------------------------\n",
      "torch.Size([1, 512])\n",
      "['Maine Coon Cat have a square-shaped muzzle', 'Maine Coon Cat come in a variety of colors and patterns', 'Maine Coon Cat have tufted ears and a bushy tail', 'Maine Coon Cat have a large and sturdy build', 'Maine Coon Cat have a large and muscular build', 'Maine Coon Cat tails are long and bushy', 'Maine Coon Cat have a shaggy, water-resistant coat that comes in a variety of colors and patterns', 'Maine Coon Cat have a rectangular-shaped body', 'Maine Coon Cat typically have a long and shaggy coat', 'Maine Coon Cat have tufted ears and lynx-like tufting on the tips of their ears', 'Maine Coon Cat have a shaggy and dense coat', 'Maine Coon Cat have large, expressive eyes that can be any color', 'Maine Coon Cat have a shaggy and water-resistant coat', 'Maine Coon Cat have a square-shaped head with a strong jawline', 'Maine Coon Cat have a more square-shaped face', 'Maine Coon Cat have a long and thick coat with a variety of colors and patterns', 'Maine Coon Cat have a bushy tail', 'Maine Coon Cat are one of the largest domestic cat breeds, with a long and muscular body', 'Maine Coon Cat have large, round eyes that can be any color', 'Maine Coon Cat ears are large and have lynx-like tufts of hair on the tips', 'Maine Coon Cat are known for their friendly and sociable nature', 'Maine Coon Cat have long, shaggy fur', 'Maine Coon Cat often have tufted ears', 'Maine Coon Cat have tufted ears with lynx-like tips', 'Maine Coon Cat have a friendly and sociable personality', 'Maine Coon Cat have a prominent ruff around their neck', 'Maine Coon Cat have a long and bushy tail']\n",
      "----------------------------------------\n",
      "torch.Size([1, 512])\n",
      "['Birman Cat have round blue eyes', \"Birman Cat have a color pattern called 'colorpoint pattern'\", 'Birman Cat have a more rounded face with a gentle slope', 'Birman Cat have a calm and gentle temperament', 'Birman Cat have a medium to large-sized body with a sturdy build', 'Birman Cat have a long, silky coat that is usually light-colored with darker points on the ears, face, paws, and tail', 'Birman Cat have striking blue eyes', 'Birman Cat have a silky, semi-long coat that comes in a variety of colors, including seal, blue, chocolate, and lilac', 'Birman Cat have a silky, semi-long coat that comes in a variety of colors', 'Birman Cat have a round face with a strong chin', 'Birman Cat have a bushy tail', \"Birman Cat have a distinctive color pattern on their face, known as 'mask'\", 'Birman Cat have a semi-long, silky coat that comes in a variety of colors', 'Birman Cat have a gentle expression with a rounded face', 'Birman Cat have a medium to large size with a muscular build', 'Birman Cat have white paws, known as gloves', 'Birman Cat have a gentle expression', 'Birman Cat have a distinctive color point pattern, with darker color on the ears, face, paws, and tail', 'Birman Cat have a medium-sized body with a muscular build', 'Birman Cat have a distinctive color pattern on their face, known as a mask', \"Birman Cat have white 'gloves' on their paws\", 'Birman Cat have a medium-sized body with a muscular build', 'Birman Cat have a semi-long, silky coat that comes in various colors, including seal, blue, chocolate, and lilac', 'Birman Cat have striking blue eyes', 'Birman Cat have a distinctive color pattern called pointed where the ears, face, paws, and tail are darker than the rest of the body', 'Birman Cat have a round face with a short, broad nose', 'Birman Cat have white gloves on their paws']\n",
      "----------------------------------------\n",
      "torch.Size([1, 512])\n",
      "['Persian Cat have small and folded ears', 'Persian Cat have large round eyes that can be various colors', 'Persian Cat have a long, thick coat that comes in a variety of colors', 'Persian Cat have a round face with a flat profile', 'Persian Cat have a round and compact body', 'Persian Cat have a sweet and serene expression', 'Persian Cat have small ears that are set close together', 'Persian Cat have large and expressive eyes', 'Persian Cat have a calm and gentle demeanor', 'Persian Cat have a fluffy and full coat', 'Persian Cat have a stocky and round build', 'Persian Cat have a delicate and elegant build', 'Persian Cat have a long and silky coat', 'Persian Cat have a stocky build with short legs', 'Persian Cat have long, luxurious coats that come in a variety of colors', 'Persian Cat have a fluffy tail', 'Persian Cat have a short and fluffy tail', 'Persian Cat have a long and thick coat that comes in a variety of colors', 'Persian Cat have a calm and gentle personality', 'Persian Cat have a round-shaped head with a short, flat nose', 'Persian Cat have a flat face with a pushed-in nose', 'Persian Cat have a large, round body with a stocky build', 'Persian Cat have large, round eyes that can be various colors', 'Persian Cat have a round face with a short nose and large round eyes', 'Persian Cat have a small and upturned nose', 'Persian Cat have a flat face with a short nose', 'Persian Cat have a long and fluffy coat', 'Persian Cat have small and rounded ears']\n",
      "----------------------------------------\n"
     ]
    },
    {
     "name": "stdout",
     "output_type": "stream",
     "text": [
      "torch.Size([1, 512])\n",
      "['Ragdoll Cat have a docile and relaxed temperament', 'Ragdoll Cat have striking blue eyes', 'Ragdoll Cat have a large, muscular body with a broad chest', 'Ragdoll Cat have a soft and plush coat that is easy to groom', 'Ragdoll Cat have a large and sturdy body with a semi-long coat', 'Ragdoll Cat have a medium to large size', 'Ragdoll Cat have a round face with full cheeks', 'Ragdoll Cat have semi-long, silky coats that are usually lighter in color', 'Ragdoll Cat come in a variety of colors and patterns, including pointed, mitted, and bicolor', 'Ragdoll Cat have a triangular face with a long nose and large oval eyes', 'Ragdoll Cat have a broad and rounded head', 'Ragdoll Cat have a bushy tail', 'Ragdoll Cat have a semi-long, silky coat', 'Ragdoll Cat have a large and muscular build with long legs', 'Ragdoll Cat have large, oval-shaped eyes that are usually blue', 'Ragdoll Cat have a soft and plush fur', \"Ragdoll Cat have a tendency to go limp when picked up, hence the name 'Ragdoll'\", 'Ragdoll Cat have a friendly and affectionate personality', 'Ragdoll Cat have a docile and calm temperament', 'Ragdoll Cat have a variety of coat colors and patterns, including seal, blue, chocolate, and lilac', 'Ragdoll Cat have a semi-long and silky coat']\n",
      "----------------------------------------\n",
      "torch.Size([1, 512])\n",
      "['Bombay Cat have a short and sleek coat', 'Bombay Cat are usually solid black in color', 'Bombay Cat have a sleek and shiny black coat', 'Bombay Cat have a short and straight tail', 'Bombay Cat have a shiny and glossy coat', 'Bombay Cat have a solid black coat', 'Bombay Cat have a muscular and compact body', 'Bombay Cat have round, copper or gold-colored eyes', 'Bombay Cat have round and expressive copper or gold eyes', 'Bombay Cat have a rounded head with large round eyes', 'Bombay Cat have a sleek and shiny coat', 'Bombay Cat have a friendly and affectionate personality', 'Bombay Cat have a short and straight nose', 'Bombay Cat have a rounded head shape', 'Bombay Cat have a short and thick tail', 'Bombay Cat have a short and fine fur texture', 'Bombay Cat have a muscular and medium-sized body', 'Bombay Cat have small and rounded ears']\n",
      "----------------------------------------\n",
      "torch.Size([1, 512])\n",
      "['Russian Blue Cat have a thick tail that tapers to a rounded tip', 'Russian Blue Cat have a slim and elegant build', 'Russian Blue Cat have a triangular-shaped head', 'Russian Blue Cat have a slender and graceful build', 'Russian Blue Cat have a long and straight nose', 'Russian Blue Cat have large and round green eyes', 'Russian Blue Cat have a straight and medium-length nose', 'Russian Blue Cat have round green eyes', 'Russian Blue Cat have green eyes that are almond-shaped', 'Russian Blue Cat have a long and tapering tail', 'Russian Blue Cat have a short, dense coat of bluish-gray fur', 'Russian Blue Cat have a short and dense coat that is bluish-gray in color', 'Russian Blue Cat have a gentle and reserved demeanor', 'Russian Blue Cat have a short, dense, and plush coat that is bluish-gray in color', 'Russian Blue Cat have large and pointed ears', 'Russian Blue Cat have a muscular build and a medium-sized body', 'Russian Blue Cat have a triangular-shaped face', 'Russian Blue Cat have a wedge-shaped head with a straight profile', 'Russian Blue Cat have a slender and graceful body', 'Russian Blue Cat have a wedge-shaped head with large, wide-set ears', 'Russian Blue Cat have round, green eyes', 'Russian Blue Cat have a dense and plush blue-gray coat', 'Russian Blue Cat have a more elegant and agile appearance', 'Russian Blue Cat have small, rounded ears that are set wide apart', 'Russian Blue Cat have almond-shaped green eyes']\n",
      "----------------------------------------\n",
      "torch.Size([1, 512])\n",
      "['Chihuahua Dog have a short coat that can come in a variety of colors', 'Chihuahua Dog have a small size and lightweight body', 'Chihuahua Dog coat colors can vary, including fawn, black, white, and tan', 'Chihuahua Dog have a short, smooth coat that can come in a variety of colors', 'Chihuahua Dog have a short coat that can be smooth or long', 'Chihuahua Dog have a round head with a short snout', 'Chihuahua Dog have a small size, typically weighing between 2-6 pounds', 'Chihuahua Dog often have a prominent bulging eye', 'Chihuahua Dog have a variety of coat types, including short and long coats', 'Chihuahua Dog have a distinct apple-shaped head with a short muzzle', 'Chihuahua Dog have a long tail that curls over their back', 'Chihuahua Dog have a curled or straight tail', 'Chihuahua Dog have a long tail that may be curled or carried over their back', 'Chihuahua Dog have a apple-shaped head with a short muzzle', 'Chihuahua Dog have a short and smooth coat', 'Chihuahua Dog have a rounded apple-shaped head', 'Chihuahua Dog have large, erect ears', 'Chihuahua Dog have a short, smooth coat that comes in various colors', 'Chihuahua Dog have a rounded head with large, round eyes', 'Chihuahua Dog have large, erect ears that are proportionally bigger compared to their body size', 'Chihuahua Dog ears are large and stand upright', 'Chihuahua Dog ears are large and erect', 'Chihuahua Dog have a distinctive rounded skull shape', 'Chihuahua Dog have a small, lightweight body', 'Chihuahua Dog have a small and delicate frame', 'Chihuahua Dog are small-sized dogs with a delicate and lightweight build', 'Chihuahua Dog have large, round eyes that are set wide apart', 'Chihuahua Dog have a small and compact body', 'Chihuahua Dog have a small size with a compact body', 'Chihuahua Dog have a rounded apple-shaped head with a short snout', 'Chihuahua Dog come in a variety of colors, including tan, brown, black, and white', 'Chihuahua Dog have a long and thin tail', 'Chihuahua Dog have a pointed snout', 'Chihuahua Dog have erect ears that are usually large in proportion to their head', 'Chihuahua Dog have large, round eyes that are widely spaced', 'Chihuahua Dog have a slightly longer body compared to their height', 'Chihuahua Dog have a short and smooth coat that comes in various colors including fawn, black, white, and tan']\n",
      "----------------------------------------\n",
      "torch.Size([1, 512])\n",
      "['Pomeranian Dog are small in size with a compact body', 'Pomeranian Dog have a fluffy double coat that comes in various colors', 'Pomeranian Dog have a thick double coat that comes in various colors including orange, cream, black, and sable', 'Pomeranian Dog have a small and compact build', 'Pomeranian Dog have a thick double coat with a fluffy and soft texture', 'Pomeranian Dog have small, erect ears that are set high on the head', 'Pomeranian Dog have large, round eyes', 'Pomeranian Dog have a lively and alert expression', 'Pomeranian Dog tails are plumed and carried over the back', 'Pomeranian Dog have a teddy bear-like face with a rounded head', 'Pomeranian Dog have a plume-like tail that is carried over the back', 'Pomeranian Dog have a plume-like tail that curls over their back', 'Pomeranian Dog have a fluffy and thick double coat', 'Pomeranian Dog are small-sized dogs with a dainty and elegant build', 'Pomeranian Dog have a fox-like face with a short muzzle', 'Pomeranian Dog have a short, pointed muzzle', 'Pomeranian Dog ears are small and erect', 'Pomeranian Dog have a fluffy double coat that comes in a variety of colors', 'Pomeranian Dog have a small, sturdy body', 'Pomeranian Dog have a distinctive teddy bear-like appearance', 'Pomeranian Dog have a fox-like face with a pointed snout', 'Pomeranian Dog have a compact and fluffy appearance', 'Pomeranian Dog have a compact and sturdy body', 'Pomeranian Dog ears are small and stand upright', 'Pomeranian Dog have small, erect ears', 'Pomeranian Dog have a fox-like face with small, almond-shaped eyes', 'Pomeranian Dog have a variety of coat colors, including orange, cream, black, and sable', 'Pomeranian Dog are smaller in size with a compact build', 'Pomeranian Dog have a profuse ruff around their neck', 'Pomeranian Dog have a rounded head with a short snout', 'Pomeranian Dog have a plumed tail that curls over their back', 'Pomeranian Dog come in a variety of colors, including orange, red, black, and white', 'Pomeranian Dog have a plumed tail that is carried high over their back', 'Pomeranian Dog have a thick, double coat that stands out from their body']\n",
      "----------------------------------------\n"
     ]
    },
    {
     "name": "stdout",
     "output_type": "stream",
     "text": [
      "torch.Size([1, 512])\n",
      "['Yorkshire Terrier Dog are known for their elegant and glamorous appearance', 'Yorkshire Terrier Dog have a confident and alert expression', 'Yorkshire Terrier Dog have a small size and compact body', 'Yorkshire Terrier Dog ears are medium-sized and carried erect', 'Yorkshire Terrier Dog have a smooth and rounded head', 'Yorkshire Terrier Dog tails are usually docked or carried low', 'Yorkshire Terrier Dog are small dogs with a delicate build', 'Yorkshire Terrier Dog often have a topknot of hair on the head', 'Yorkshire Terrier Dog are generally smaller in size', 'Yorkshire Terrier Dog have a long, silky coat', 'Yorkshire Terrier Dog tails are usually docked to a medium length', 'Yorkshire Terrier Dog ears are usually erect and V-shaped', 'Yorkshire Terrier Dog ears are usually smaller and stand up', 'Yorkshire Terrier Dog ears are small and V-shaped', 'Yorkshire Terrier Dog tails are docked to a medium length', 'Yorkshire Terrier Dog are generally smaller and more delicate', 'Yorkshire Terrier Dog are small in size with a slender body', 'Yorkshire Terrier Dog have a flat skull and a medium-length muzzle', 'Yorkshire Terrier Dog have a shorter and smoother coat', 'Yorkshire Terrier Dog ears are small and erect', 'Yorkshire Terrier Dog have a doll-like face with a short muzzle', 'Yorkshire Terrier Dog are known for their confident and feisty personality', 'Yorkshire Terrier Dog have a long and silky single coat', 'Yorkshire Terrier Dog tails are usually docked', 'Yorkshire Terrier Dog coat colors are typically blue and tan', 'Yorkshire Terrier Dog tails are medium-length and carried high', 'Yorkshire Terrier Dog have a regal and elegant appearance', 'Yorkshire Terrier Dog have a round-shaped head with a short muzzle', 'Yorkshire Terrier Dog ears are small and stand upright', 'Yorkshire Terrier Dog often have a more angular face with a longer snout', 'Yorkshire Terrier Dog have a long, silky coat that is typically blue and tan in color', 'Yorkshire Terrier Dog have a more compact and sturdy build']\n",
      "----------------------------------------\n",
      "torch.Size([1, 512])\n",
      "['English Cocker Spaniel Dog have a gentle expression with large, round eyes', 'English Cocker Spaniel Dog have a medium-sized build', 'English Cocker Spaniel Dog have a docked tail that is usually held upright', 'English Cocker Spaniel Dog ears are long and pendulous, hanging down close to the head', 'English Cocker Spaniel Dog have a slender neck', 'English Cocker Spaniel Dog are generally smaller in size', 'English Cocker Spaniel Dog have a well-feathered tail that is usually docked', 'English Cocker Spaniel Dog have a medium-sized build with a sturdy and compact body', 'English Cocker Spaniel Dog ears are long and set low on the head', 'English Cocker Spaniel Dog have a long, silky coat that comes in a variety of colors', 'English Cocker Spaniel Dog have a docked tail that is set high', 'English Cocker Spaniel Dog have a soft expression with large, dark eyes', 'English Cocker Spaniel Dog have a deep chest that is not as wide as the Newfoundland Dog', 'English Cocker Spaniel Dog have long, pendulous ears that hang close to the head', 'English Cocker Spaniel Dog have a tail that is usually docked to a medium length', 'English Cocker Spaniel Dog have long, silky coats that come in a variety of colors including black, liver, and golden', 'English Cocker Spaniel Dog are known for their expressive and intelligent eyes', 'English Cocker Spaniel Dog have long, droopy ears that hang close to the head', 'English Cocker Spaniel Dog have a long, silky coat that can come in various colors such as black, liver, or golden', 'English Cocker Spaniel Dog have a more compact and sturdy build', 'English Cocker Spaniel Dog are slightly smaller than Wheaten Terriers with a more slender build', 'English Cocker Spaniel Dog are known for their cheerful and affectionate nature', 'English Cocker Spaniel Dog have a long, silky coat that is usually solid in color or with some markings', 'English Cocker Spaniel Dog tails are usually docked to a medium length', 'English Cocker Spaniel Dog have a rounded head with a well-defined stop', 'English Cocker Spaniel Dog have a medium-sized, sturdy body', 'English Cocker Spaniel Dog have long, droopy ears that hang down close to their face', 'English Cocker Spaniel Dog have a medium-sized build with a sturdy and athletic appearance', 'English Cocker Spaniel Dog have a silky, medium-length coat that comes in a variety of colors', 'English Cocker Spaniel Dog have long, droopy ears that hang down', 'English Cocker Spaniel Dog have a long, square-shaped head with a defined stop', 'English Cocker Spaniel Dog have a rounded head with a defined stop', 'English Cocker Spaniel Dog have a silky, wavy coat that comes in various colors', 'English Cocker Spaniel Dog have a distinct feathering on their legs, chest, and ears', 'English Cocker Spaniel Dog have a well-defined muzzle and a gentle expression', 'English Cocker Spaniel Dog have a gentle and intelligent expression', 'English Cocker Spaniel Dog have a medium-length tail that is usually docked']\n",
      "----------------------------------------\n",
      "torch.Size([1, 512])\n",
      "['Havanese Dog have a bright and expressive expression', 'Havanese Dog ears are usually longer and hang down', 'Havanese Dog have a small, compact body with a slightly rounded head', 'Havanese Dog have a friendly and playful expression', 'Havanese Dog have a small size with a sturdy and compact build', 'Havanese Dog have a tail that is carried over the back', 'Havanese Dog are known for their cheerful and playful expression', 'Havanese Dog are generally smaller in size', 'Havanese Dog have a compact and sturdy build', 'Havanese Dog tails are plumed and carried over the back', 'Havanese Dog have a deep chest and a high-set, plumed tail', 'Havanese Dog have a short and broad head with a moderate stop', 'Havanese Dog often have a more rounded face with a shorter muzzle', 'Havanese Dog have a round and expressive face', 'Havanese Dog have large, expressive eyes and a short muzzle', 'Havanese Dog have a longer and silkier coat', 'Havanese Dog are generally larger in size', 'Havanese Dog have a long, silky coat that can come in various colors such as white, cream, or black', 'Havanese Dog have a long, silky coat that comes in a variety of colors including white, cream, and black', 'Havanese Dog tails are usually carried over the back', 'Havanese Dog have large, dark eyes', 'Havanese Dog have ears that are set high and fold over', 'Havanese Dog have a long and silky coat that can come in a variety of colors', 'Havanese Dog have a small and sturdy build with a lively and alert appearance', 'Havanese Dog have long, floppy ears that hang down', 'Havanese Dog often have a more rounded face with a shorter snout', 'Havanese Dog have a long and silky coat that can be various colors, including white, cream, black, and brown', 'Havanese Dog often have a topknot of hair on their head', 'Havanese Dog have a slightly rounded skull with a moderate stop', 'Havanese Dog have a plumed tail that curls over their back']\n",
      "----------------------------------------\n",
      "torch.Size([1, 512])\n",
      "['Great Pyrenees Dog have a thick double coat that is usually white in color', 'Great Pyrenees Dog are known for their calm and gentle temperament', 'Great Pyrenees Dog have a long, plumed tail that curls over their back', 'Great Pyrenees Dog are large and muscular dogs with a strong build', 'Great Pyrenees Dog have a bushy tail that is carried low when relaxed and raised when alert', 'Great Pyrenees Dog ears are medium-sized and hang down', 'Great Pyrenees Dog have a broad head with a gentle expression', 'Great Pyrenees Dog have a more slender and athletic build', 'Great Pyrenees Dog have longer and thicker fur', 'Great Pyrenees Dog have a well-defined stop between the forehead and the muzzle', 'Great Pyrenees Dog are large and powerful with a strong build', 'Great Pyrenees Dog have a narrower head with a flatter forehead', 'Great Pyrenees Dog have a longer and narrower snout', 'Great Pyrenees Dog have a broad head with a slightly rounded skull', 'Great Pyrenees Dog have a well-developed muzzle and a black nose', 'Great Pyrenees Dog have a long, fluffy tail that is carried low when at rest', 'Great Pyrenees Dog have a gentle expression with dark, almond-shaped eyes', 'Great Pyrenees Dog are known for their protective and independent nature', 'Great Pyrenees Dog have a more alert expression', 'Great Pyrenees Dog have small, almond-shaped eyes that are usually dark in color', 'Great Pyrenees Dog have a bushy tail that curls over their back', 'Great Pyrenees Dog have a well-developed muzzle with a black nose', 'Great Pyrenees Dog have dark, almond-shaped eyes', 'Great Pyrenees Dog ears are medium-sized and hang down close to the head', 'Great Pyrenees Dog have a thick, double coat that is usually white or cream in color', 'Great Pyrenees Dog have a more elongated body', 'Great Pyrenees Dog have a long, fluffy tail that hangs down when at rest']\n",
      "----------------------------------------\n",
      "torch.Size([1, 512])\n",
      "['Samoyed Dog have a well-developed muzzle with a black nose or a brown nose', 'Samoyed Dog have a fluffy and rounded appearance', 'Samoyed Dog tails are long and carried over their back', 'Samoyed Dog have a more rounded face with a smiley expression', 'Samoyed Dog ears are medium-sized and erect', 'Samoyed Dog also have a thick double coat that is usually white in color', 'Samoyed Dog also have a thick double coat with a dense undercoat', 'Samoyed Dog have a thick, white double coat', 'Samoyed Dog have dark, expressive eyes that are usually almond-shaped', 'Samoyed Dog are slightly smaller and more compact than Great Pyrenees Dogs', 'Samoyed Dog have a long, fluffy tail that curls over their back', 'Samoyed Dog have a curled tail that rests on their back', 'Samoyed Dog have a wedge-shaped head with a slightly domed skull', 'Samoyed Dog tails are long and often curled over the back', 'Samoyed Dog have a friendly and gentle expression', 'Samoyed Dog coat colors are typically white or cream', 'Samoyed Dog have a wedge-shaped head with a broad forehead', 'Samoyed Dog are generally larger in size', 'Samoyed Dog ears are erect and triangular in shape', 'Samoyed Dog are larger in size with a sturdy build', 'Samoyed Dog are known for their friendly and sociable nature', 'Samoyed Dog have a smiling expression with dark, almond-shaped eyes', 'Samoyed Dog ears are medium-sized and triangular in shape', 'Samoyed Dog have a thick, fluffy white coat']\n",
      "----------------------------------------\n"
     ]
    },
    {
     "name": "stdout",
     "output_type": "stream",
     "text": [
      "torch.Size([1, 512])\n",
      "['Newfoundland Dog have a wide, deep chest', 'Newfoundland Dog have a large and powerful build', 'Newfoundland Dog have a long, thick tail that hangs down when at rest', 'Newfoundland Dog have a slightly smaller and more balanced build', 'Newfoundland Dog have a thick, muscular neck', 'Newfoundland Dog have droopy ears that are set high on the head', 'Newfoundland Dog have a narrower head with a more tapered forehead', 'Newfoundland Dog have a thick, strong tail that hangs down', 'Newfoundland Dog have a broad head with a straight or slightly convex profile', 'Newfoundland Dog have a thick double coat that is usually black or brown', 'Newfoundland Dog are also large and muscular dogs, but with a more stocky build', 'Newfoundland Dog have longer and more triangular ears', 'Newfoundland Dog have a broad head with a square-shaped muzzle', 'Newfoundland Dog are known for their webbed feet, which are helpful for swimming', 'Newfoundland Dog have a more alert expression and a less wrinkled face', 'Newfoundland Dog are generally larger in size', 'Newfoundland Dog have a thick double coat that can be black, brown, or gray in color', 'Newfoundland Dog are known for their calm and gentle nature', 'Newfoundland Dog have droopy ears that hang close to the head', 'Newfoundland Dog are known for their friendly and gentle nature', 'Newfoundland Dog have a solid coat color in black, brown, gray, or Landseer (white with black markings)', 'Newfoundland Dog ears are medium-sized and hang down close to the head', 'Newfoundland Dog have a thick, water-resistant double coat that is usually black, brown, or gray', 'Newfoundland Dog have a long, thick tail that hangs down', 'Newfoundland Dog are also large and muscular, but have a more massive build', 'Newfoundland Dog have a longer and thicker coat']\n",
      "----------------------------------------\n",
      "torch.Size([1, 512])\n",
      "['Keeshond Dog coat colors are typically a mix of gray, black, and cream', 'Keeshond Dog have a medium-sized build', 'Keeshond Dog have a thick double coat that is usually gray or black with a distinct ruff around the neck', 'Keeshond Dog have a thick double coat that is typically gray, black, and cream in color', 'Keeshond Dog have a plumed tail that curls over the back', 'Keeshond Dog are medium-sized dogs with a sturdy and compact build', 'Keeshond Dog have a distinct ruff around their neck', 'Keeshond Dog have a fox-like face with a wedge-shaped head', 'Keeshond Dog have medium-sized, almond-shaped eyes', 'Keeshond Dog have a fox-like head shape with a wedge-shaped muzzle', 'Keeshond Dog have a thick double coat with a dense undercoat', 'Keeshond Dog have a sturdy and compact build', 'Keeshond Dog have a curled tail that rests on their back', 'Keeshond Dog have a black mask on their face', 'Keeshond Dog have a fox-like face with almond-shaped eyes', 'Keeshond Dog are known for their expressive eyes and smiling expression', 'Keeshond Dog have expressive eyes that are dark and almond-shaped', 'Keeshond Dog are smaller in size, typically weighing between 35-45 pounds', 'Keeshond Dog have erect ears that are set high on the head', 'Keeshond Dog have a fox-like face with a wedge-shaped muzzle', 'Keeshond Dog have a plumed tail that curls over their back', 'Keeshond Dog tails are plumed and carried over their back', 'Keeshond Dog have erect, triangular ears', 'Keeshond Dog ears are small and triangular in shape']\n",
      "----------------------------------------\n",
      "torch.Size([1, 512])\n",
      "['Wheaten Terrier Dog have small, dark eyes and a black nose', 'Wheaten Terrier Dog have small, triangular ears that stand erect', 'Wheaten Terrier Dog tails are usually docked to a medium length', 'Wheaten Terrier Dog have a more square-shaped body with longer legs', 'Wheaten Terrier Dog have a soft, wavy coat that is typically a pale wheaten color', 'Wheaten Terrier Dog have a square-shaped head with a strong jaw', 'Wheaten Terrier Dog have a sturdy, muscular build with a square-shaped body', 'Wheaten Terrier Dog have larger, floppy ears', 'Wheaten Terrier Dog have a soft and silky single coat', 'Wheaten Terrier Dog are usually wheaten or cream in color', 'Wheaten Terrier Dog are known for their friendly and outgoing personality', 'Wheaten Terrier Dog are known for their friendly and outgoing personalities', 'Wheaten Terrier Dog have a medium-length, wavy coat that is typically a pale wheaten color', 'Wheaten Terrier Dog have a high-set tail that is carried erect or slightly curved', 'Wheaten Terrier Dog have a broad head with a strong jaw', 'Wheaten Terrier Dog ears are medium-sized and fold forward', 'Wheaten Terrier Dog have a narrower and more elongated head shape', 'Wheaten Terrier Dog ears are medium-sized and hang down close to the head', 'Wheaten Terrier Dog are medium-sized dogs with a sturdy build']\n",
      "----------------------------------------\n",
      "torch.Size([1, 512])\n",
      "['Japanese Chin Dog tails are carried high and curled over the back', 'Japanese Chin Dog ears are set high on the head and are feathered', 'Japanese Chin Dog have a plumed tail that curls over the back', 'Japanese Chin Dog have a long, silky coat that is usually black and white or red and white', 'Japanese Chin Dog have a short, broad muzzle', 'Japanese Chin Dog have a flat face with large, round eyes', 'Japanese Chin Dog typically have a shorter and flatter face', 'Japanese Chin Dog have a silky, straight coat', 'Japanese Chin Dog have a round head with a short muzzle', 'Japanese Chin Dog are generally larger in size', 'Japanese Chin Dog have a shorter and smoother coat', 'Japanese Chin Dog have a variety of coat colors, including black and white, red and white, and black and tan', 'Japanese Chin Dog ears are usually smaller and more erect', 'Japanese Chin Dog have large, round eyes that are set wide apart', 'Japanese Chin Dog have a small and compact body', 'Japanese Chin Dog have a small, compact body', 'Japanese Chin Dog have a distinctive white spot on their forehead', 'Japanese Chin Dog have a plumed tail that curls over their back', 'Japanese Chin Dog have a silky, straight coat that comes in various colors']\n",
      "----------------------------------------\n",
      "torch.Size([1, 512])\n",
      "['Leonberger Dog have a long, bushy tail that hangs down', 'Leonberger Dog have a longer tail that hangs down', 'Leonberger Dog have a broad head with a pronounced stop', 'Leonberger Dog ears are medium-sized and hang down', 'Leonberger Dog are larger in size, typically weighing between 90-150 pounds', 'Leonberger Dog have a thick double coat with a dense undercoat', 'Leonberger Dog have a broader head with a more pronounced stop', 'Leonberger Dog are large and muscular with a sturdy build', 'Leonberger Dog have a bushy tail that hangs down when relaxed', 'Leonberger Dog have a black mask on their face', 'Leonberger Dog have a mane-like ruff around their neck', 'Leonberger Dog have a variety of coat colors including yellow, red, and brown', 'Leonberger Dog are large and muscular, with a sturdy build', 'Leonberger Dog have a long, bushy tail that hangs down when at rest', 'Leonberger Dog ears are medium-sized and set high on the head', 'Leonberger Dog have a broad head with a slightly arched forehead', 'Leonberger Dog are known for their friendly and gentle temperament', 'Leonberger Dog ears are medium-sized and hang down close to the head', 'Leonberger Dog have a large, powerful head with a broad skull', 'Leonberger Dog have a thick, double coat that is usually a golden or red color', 'Leonberger Dog are generally larger and more muscular', 'Leonberger Dog have a thick double coat with a lion-like mane around the neck']\n",
      "----------------------------------------\n",
      "torch.Size([1, 512])\n",
      "['Pug Dog have a stocky and compact body', 'Pug Dog have a curly tail that curls tightly over their back', 'Pug Dog have a distinctive black mask on their face', 'Pug Dog have a distinct black mask on their face', 'Pug Dog have a compact and muscular build', 'Pug Dog have a wrinkled face with a flat nose', 'Pug Dog have a compact and sturdy body shape', 'Pug Dog have a short and smooth coat', 'Pug Dog have a round and bulging eyes', 'Pug Dog have a stocky and muscular build', 'Pug Dog have a wrinkled face and a short, flat muzzle', 'Pug Dog have a curled tail', 'Pug Dog have a round head with large, expressive eyes']\n",
      "----------------------------------------\n"
     ]
    },
    {
     "name": "stdout",
     "output_type": "stream",
     "text": [
      "torch.Size([1, 512])\n",
      "['Shiba Inu Dog have small, triangular ears that stand erect', 'Shiba Inu Dog typically have a compact and muscular build', 'Shiba Inu Dog are medium-sized dogs with a sturdy and muscular build', 'Shiba Inu Dog tails are curled and carried high over the back', 'Shiba Inu Dog have erect ears that are triangular in shape', 'Shiba Inu Dog have a curly or sickle-shaped tail that is carried high over the back', 'Shiba Inu Dog have a curled or sickle-shaped tail that is carried high over the back', 'Shiba Inu Dog have a short, dense coat in colors like red, sesame, or black and tan', 'Shiba Inu Dog are generally small to medium-sized dogs with a sturdy build', 'Shiba Inu Dog are known for their independent and spirited nature', 'Shiba Inu Dog ears are small and triangular', 'Shiba Inu Dog have a curled tail that is carried high over the back', 'Shiba Inu Dog have a more fox-like face with a confident expression', 'Shiba Inu Dog have a thick double coat that comes in various colors including red, sesame, black, and tan', 'Shiba Inu Dog have a distinct fox-like face with a pointed snout', 'Shiba Inu Dog have a thick double coat that comes in various colors, including red, sesame, and black and tan']\n",
      "----------------------------------------\n",
      "torch.Size([1, 512])\n",
      "['Scottish Terrier Dog have a strong and muscular build', 'Scottish Terrier Dog have a long and strong body with short legs', 'Scottish Terrier Dog have a long and rectangular-shaped body', 'Scottish Terrier Dog are typically black in color, but can also be brindle or wheaten', 'Scottish Terrier Dog have a distinctive beard and eyebrows', 'Scottish Terrier Dog have a broad and rounded head with erect ears', 'Scottish Terrier Dog have a wiry and dense double coat', 'Scottish Terrier Dog have a broad and rounded head shape', 'Scottish Terrier Dog are usually black in color', 'Scottish Terrier Dog ears are small and erect', 'Scottish Terrier Dog tails are short and carried upright', 'Scottish Terrier Dog have a tail that is usually carried upright', 'Scottish Terrier Dog have small, erect ears', 'Scottish Terrier Dog are known for their distinctive shape and profile', 'Scottish Terrier Dog are usually black in color, but can also be brindle or wheaten', 'Scottish Terrier Dog have a tail that is usually carried erect', 'Scottish Terrier Dog are generally larger and more muscular']\n",
      "----------------------------------------\n",
      "torch.Size([1, 512])\n",
      "torch.Size([37, 512])\n"
     ]
    },
    {
     "name": "stderr",
     "output_type": "stream",
     "text": [
      "100%|█████████████████████████████████████████████████████████████████████████████████████████████████████████████████| 367/367 [00:55<00:00,  6.57it/s]"
     ]
    },
    {
     "name": "stdout",
     "output_type": "stream",
     "text": [
      "\n",
      "\n",
      "\n",
      "\n",
      "Total Description-based Top-1 Accuracy:  2.562006004154682\n",
      "Total Description-based Top-5 Accuracy:  17.4161896109581\n",
      "Total CLIP-Standard Top-1 Accuracy:  89.01607990264893\n",
      "Total CLIP-Standard Top-5 Accuracy:  99.75470304489136\n"
     ]
    },
    {
     "name": "stderr",
     "output_type": "stream",
     "text": [
      "\n"
     ]
    },
    {
     "data": {
      "text/plain": [
       "{'Total Description-based Top-1 Accuracy: ': 2.562006004154682,\n",
       " 'Total Description-based Top-5 Accuracy: ': 17.4161896109581,\n",
       " 'Total CLIP-Standard Top-1 Accuracy: ': 89.01607990264893,\n",
       " 'Total CLIP-Standard Top-5 Accuracy: ': 99.75470304489136}"
      ]
     },
     "execution_count": 51,
     "metadata": {},
     "output_type": "execute_result"
    }
   ],
   "source": [
    "calc_acc_complete(model, oxfordpet_dataset_test, oxfordpet_dataset_train.classes,\n",
    "         count_classes = False)"
   ]
  }
 ],
 "metadata": {
  "kernelspec": {
   "display_name": "Python 3 (ipykernel)",
   "language": "python",
   "name": "python3"
  },
  "language_info": {
   "codemirror_mode": {
    "name": "ipython",
    "version": 3
   },
   "file_extension": ".py",
   "mimetype": "text/x-python",
   "name": "python",
   "nbconvert_exporter": "python",
   "pygments_lexer": "ipython3",
   "version": "3.7.12"
  }
 },
 "nbformat": 4,
 "nbformat_minor": 5
}
